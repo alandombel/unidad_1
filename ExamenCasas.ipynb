{
 "cells": [
  {
   "cell_type": "code",
   "execution_count": 1,
   "id": "capable-blast",
   "metadata": {},
   "outputs": [],
   "source": [
    "import pandas as pd\n",
    "from sklearn import linear_model\n",
    "from sklearn.model_selection import train_test_split"
   ]
  },
  {
   "cell_type": "code",
   "execution_count": 2,
   "id": "extreme-device",
   "metadata": {},
   "outputs": [],
   "source": [
    "df_casasFULL = pd.read_csv(r'csvRS/casas-pro.csv')"
   ]
  },
  {
   "cell_type": "code",
   "execution_count": 3,
   "id": "metric-service",
   "metadata": {},
   "outputs": [],
   "source": [
    "#Se limpian los valores de precio y mets y se convierte a flotantes\n",
    "df_casasFULL['precio'] = df_casasFULL['precio'].replace('[^\\d.]', '', regex=True).astype(float)\n",
    "df_casasFULL['mets'] = df_casasFULL['mets'].replace('[^\\d.]', '', regex=True).astype(float)"
   ]
  },
  {
   "cell_type": "code",
   "execution_count": 4,
   "id": "standing-application",
   "metadata": {},
   "outputs": [],
   "source": [
    "df_casasFULL = df_casasFULL[df_casasFULL['web-scraper-start-url'].str.contains(\"campanario\", na=False, case=False)]\n",
    "df_casasFULL.reset_index(drop=True, inplace=True)"
   ]
  },
  {
   "cell_type": "code",
   "execution_count": 5,
   "id": "editorial-arcade",
   "metadata": {},
   "outputs": [
    {
     "data": {
      "text/html": [
       "<div>\n",
       "<style scoped>\n",
       "    .dataframe tbody tr th:only-of-type {\n",
       "        vertical-align: middle;\n",
       "    }\n",
       "\n",
       "    .dataframe tbody tr th {\n",
       "        vertical-align: top;\n",
       "    }\n",
       "\n",
       "    .dataframe thead th {\n",
       "        text-align: right;\n",
       "    }\n",
       "</style>\n",
       "<table border=\"1\" class=\"dataframe\">\n",
       "  <thead>\n",
       "    <tr style=\"text-align: right;\">\n",
       "      <th></th>\n",
       "      <th>titulo</th>\n",
       "      <th>precio</th>\n",
       "      <th>mets</th>\n",
       "    </tr>\n",
       "  </thead>\n",
       "  <tbody>\n",
       "    <tr>\n",
       "      <th>0</th>\n",
       "      <td>El Campanario, Jardín Colindante con Lago</td>\n",
       "      <td>26000000.0</td>\n",
       "      <td>1250.0</td>\n",
       "    </tr>\n",
       "    <tr>\n",
       "      <th>1</th>\n",
       "      <td>Preciosa Residencia de Autor en El Campanario,...</td>\n",
       "      <td>13800000.0</td>\n",
       "      <td>814.0</td>\n",
       "    </tr>\n",
       "    <tr>\n",
       "      <th>2</th>\n",
       "      <td>Casa - Fraccionamiento El Campanario</td>\n",
       "      <td>19800000.0</td>\n",
       "      <td>1277.0</td>\n",
       "    </tr>\n",
       "    <tr>\n",
       "      <th>3</th>\n",
       "      <td>Lujosa Casa en El Campanario Lista Para Estren...</td>\n",
       "      <td>19990000.0</td>\n",
       "      <td>700.0</td>\n",
       "    </tr>\n",
       "    <tr>\n",
       "      <th>4</th>\n",
       "      <td>Casa en Venta en El Campanario</td>\n",
       "      <td>30000000.0</td>\n",
       "      <td>1250.0</td>\n",
       "    </tr>\n",
       "    <tr>\n",
       "      <th>...</th>\n",
       "      <td>...</td>\n",
       "      <td>...</td>\n",
       "      <td>...</td>\n",
       "    </tr>\n",
       "    <tr>\n",
       "      <th>413</th>\n",
       "      <td>Listo para Abril 2022 casa en El Campanario de...</td>\n",
       "      <td>40000000.0</td>\n",
       "      <td>900.0</td>\n",
       "    </tr>\n",
       "    <tr>\n",
       "      <th>414</th>\n",
       "      <td>RESIDENCIA EN PREVENTA CAMPANARIO QUERETARO</td>\n",
       "      <td>18950000.0</td>\n",
       "      <td>752.0</td>\n",
       "    </tr>\n",
       "    <tr>\n",
       "      <th>415</th>\n",
       "      <td>El Campanario casa muy amplia de 4 recamaras! JGJ</td>\n",
       "      <td>19990000.0</td>\n",
       "      <td>500.0</td>\n",
       "    </tr>\n",
       "    <tr>\n",
       "      <th>416</th>\n",
       "      <td>El Campanario casa a estrenar de 4 recamaras RCS</td>\n",
       "      <td>19990000.0</td>\n",
       "      <td>500.0</td>\n",
       "    </tr>\n",
       "    <tr>\n",
       "      <th>417</th>\n",
       "      <td>CASA EN VENTA EN EL CAMPANARIO, 4 REC., 5.5 BA...</td>\n",
       "      <td>19750000.0</td>\n",
       "      <td>630.0</td>\n",
       "    </tr>\n",
       "  </tbody>\n",
       "</table>\n",
       "<p>418 rows × 3 columns</p>\n",
       "</div>"
      ],
      "text/plain": [
       "                                                titulo      precio    mets\n",
       "0            El Campanario, Jardín Colindante con Lago  26000000.0  1250.0\n",
       "1    Preciosa Residencia de Autor en El Campanario,...  13800000.0   814.0\n",
       "2                 Casa - Fraccionamiento El Campanario  19800000.0  1277.0\n",
       "3    Lujosa Casa en El Campanario Lista Para Estren...  19990000.0   700.0\n",
       "4                       Casa en Venta en El Campanario  30000000.0  1250.0\n",
       "..                                                 ...         ...     ...\n",
       "413  Listo para Abril 2022 casa en El Campanario de...  40000000.0   900.0\n",
       "414        RESIDENCIA EN PREVENTA CAMPANARIO QUERETARO  18950000.0   752.0\n",
       "415  El Campanario casa muy amplia de 4 recamaras! JGJ  19990000.0   500.0\n",
       "416   El Campanario casa a estrenar de 4 recamaras RCS  19990000.0   500.0\n",
       "417  CASA EN VENTA EN EL CAMPANARIO, 4 REC., 5.5 BA...  19750000.0   630.0\n",
       "\n",
       "[418 rows x 3 columns]"
      ]
     },
     "execution_count": 5,
     "metadata": {},
     "output_type": "execute_result"
    }
   ],
   "source": [
    "df_casasFULL.loc[:,['titulo','precio','mets']]"
   ]
  },
  {
   "cell_type": "code",
   "execution_count": 6,
   "id": "wrapped-peninsula",
   "metadata": {},
   "outputs": [],
   "source": [
    "#Se obtienen 334 casas las cuales corresponden al 80%, estos seran usados para Entrenamiento\n",
    "df_casasCamp80p = df_casasFULL.loc[0:333,['titulo','precio','mets']]"
   ]
  },
  {
   "cell_type": "code",
   "execution_count": 7,
   "id": "flush-arena",
   "metadata": {},
   "outputs": [],
   "source": [
    "#Se obtienen 84 casas las cuales corresponden al 20%, estos seran usados para Validacion\n",
    "df_casasCamp20p = df_casasFULL.loc[334:418,['titulo','precio','mets']]"
   ]
  },
  {
   "cell_type": "code",
   "execution_count": 8,
   "id": "embedded-ministry",
   "metadata": {},
   "outputs": [],
   "source": [
    "cC80precio = pd.DataFrame(df_casasCamp80p['precio'])\n",
    "cC80metros = pd.DataFrame(df_casasCamp80p['mets'])"
   ]
  },
  {
   "cell_type": "code",
   "execution_count": 9,
   "id": "distinct-television",
   "metadata": {},
   "outputs": [],
   "source": [
    "model = linear_model.LinearRegression()"
   ]
  },
  {
   "cell_type": "code",
   "execution_count": 10,
   "id": "exciting-variance",
   "metadata": {},
   "outputs": [
    {
     "data": {
      "text/plain": [
       "LinearRegression()"
      ]
     },
     "execution_count": 10,
     "metadata": {},
     "output_type": "execute_result"
    }
   ],
   "source": [
    "#Se realiza el entrenamiento con una muestra del 80%\n",
    "model.fit(cC80metros,cC80precio)"
   ]
  },
  {
   "cell_type": "code",
   "execution_count": 11,
   "id": "polish-advancement",
   "metadata": {},
   "outputs": [
    {
     "data": {
      "text/plain": [
       "array([[16921971.49731663]])"
      ]
     },
     "execution_count": 11,
     "metadata": {},
     "output_type": "execute_result"
    }
   ],
   "source": [
    "model.predict(pd.DataFrame([630]))"
   ]
  },
  {
   "cell_type": "code",
   "execution_count": 12,
   "id": "mighty-partition",
   "metadata": {},
   "outputs": [],
   "source": [
    "cC20precio = pd.DataFrame(df_casasCamp20p['precio'])\n",
    "cC20metros = pd.DataFrame(df_casasCamp20p['mets'])"
   ]
  },
  {
   "cell_type": "code",
   "execution_count": 13,
   "id": "durable-medicare",
   "metadata": {},
   "outputs": [
    {
     "data": {
      "text/plain": [
       "LinearRegression()"
      ]
     },
     "execution_count": 13,
     "metadata": {},
     "output_type": "execute_result"
    }
   ],
   "source": [
    "#Se realiza la validacion con una muestra del 20%\n",
    "model.fit(cC20metros,cC20precio)"
   ]
  },
  {
   "cell_type": "code",
   "execution_count": 14,
   "id": "suited-surface",
   "metadata": {},
   "outputs": [
    {
     "data": {
      "text/plain": [
       "array([[20492609.76138438]])"
      ]
     },
     "execution_count": 14,
     "metadata": {},
     "output_type": "execute_result"
    }
   ],
   "source": [
    "model.predict(pd.DataFrame([630]))"
   ]
  },
  {
   "cell_type": "code",
   "execution_count": 15,
   "id": "elder-belief",
   "metadata": {},
   "outputs": [],
   "source": [
    "# Otro resultado utilizando \"train_test_split\" ----------------------------------------------------------------------------\n",
    "y= df_casasFULL['precio']\n",
    "x= df_casasFULL['mets']\n",
    "X_train,X_test,y_train,y_test = train_test_split(x,y,test_size = 0.2,random_state=42)"
   ]
  },
  {
   "cell_type": "code",
   "execution_count": 16,
   "id": "exposed-melissa",
   "metadata": {},
   "outputs": [],
   "source": [
    "model2 = linear_model.LinearRegression()"
   ]
  },
  {
   "cell_type": "code",
   "execution_count": 17,
   "id": "liquid-smile",
   "metadata": {},
   "outputs": [],
   "source": [
    "X_train = X_train.values.reshape([X_train.values.shape[0],1])\n",
    "X_test = X_test.values.reshape([X_test.values.shape[0],1])"
   ]
  },
  {
   "cell_type": "code",
   "execution_count": 18,
   "id": "sufficient-moral",
   "metadata": {},
   "outputs": [
    {
     "data": {
      "text/plain": [
       "LinearRegression()"
      ]
     },
     "execution_count": 18,
     "metadata": {},
     "output_type": "execute_result"
    }
   ],
   "source": [
    "model2.fit(X_train,y_train)"
   ]
  },
  {
   "cell_type": "code",
   "execution_count": 19,
   "id": "precise-trouble",
   "metadata": {},
   "outputs": [
    {
     "data": {
      "text/plain": [
       "array([17638643.02104653])"
      ]
     },
     "execution_count": 19,
     "metadata": {},
     "output_type": "execute_result"
    }
   ],
   "source": [
    "model2.predict(pd.DataFrame([630]))"
   ]
  },
  {
   "cell_type": "code",
   "execution_count": null,
   "id": "continental-authorization",
   "metadata": {},
   "outputs": [],
   "source": []
  }
 ],
 "metadata": {
  "kernelspec": {
   "display_name": "Python 3",
   "language": "python",
   "name": "python3"
  },
  "language_info": {
   "codemirror_mode": {
    "name": "ipython",
    "version": 3
   },
   "file_extension": ".py",
   "mimetype": "text/x-python",
   "name": "python",
   "nbconvert_exporter": "python",
   "pygments_lexer": "ipython3",
   "version": "3.6.9"
  }
 },
 "nbformat": 4,
 "nbformat_minor": 5
}
