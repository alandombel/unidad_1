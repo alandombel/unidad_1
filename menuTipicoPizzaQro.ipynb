{
 "cells": [
  {
   "cell_type": "code",
   "execution_count": 1,
   "id": "premier-shape",
   "metadata": {},
   "outputs": [],
   "source": [
    "import pandas as pd\n",
    "import numpy\n",
    "import matplotlib.pyplot as plt"
   ]
  },
  {
   "cell_type": "code",
   "execution_count": 2,
   "id": "tamil-rugby",
   "metadata": {},
   "outputs": [],
   "source": [
    "# Load of all .csv\n",
    "df_ubereats_centro = pd.read_csv(r'csv/ubereats-pizza-centro.csv')\n",
    "df_ubereats_alamos = pd.read_csv(r'csv/ubereats-pizza-alamos.csv')\n",
    "df_ubereats_juriquilla = pd.read_csv(r'csv/ubereats-pizza-juriquilla.csv')\n",
    "df_ubereats_milenio = pd.read_csv(r'csv/ubereats-pizza-milenio.csv')\n",
    "df_ubereats_refugio = pd.read_csv(r'csv/ubereats-pizza-refugio.csv')\n",
    "df_ubereats_balvanera = pd.read_csv(r'csv/ubereats-pizza-balvanera.csv')\n",
    "df_ubereats_campanario = pd.read_csv(r'csv/ubereats-pizza-campanario.csv')\n",
    "df_ubereats_cerritocolorado = pd.read_csv(r'csv/ubereats-pizza-cerritocolorado.csv')\n",
    "df_ubereats_cimatario = pd.read_csv(r'csv/ubereats-pizza-cimatario.csv')\n",
    "df_ubereats_el_pueblito = pd.read_csv(r'csv/ubereats-pizza-el-pueblito.csv')\n",
    "\n",
    "df_rappi_centro = pd.read_csv(r'csv/rappi-pizza-centro.csv')\n",
    "df_rappi_alamos = pd.read_csv(r'csv/rappi-pizza-alamos.csv')\n",
    "df_rappi_juriquilla = pd.read_csv(r'csv/rappi-pizza-juriquilla.csv')\n",
    "df_rappi_milenio = pd.read_csv(r'csv/rappi-pizza-milenio.csv')\n",
    "df_rappi_refugio = pd.read_csv(r'csv/rappi-pizza-refugio.csv')\n",
    "df_rappi_balvanera = pd.read_csv(r'csv/rappi-pizza-balvanera.csv')\n",
    "df_rappi_campanario = pd.read_csv(r'csv/rappi-pizza-campanario.csv')\n",
    "df_rappi_cerritocolorado = pd.read_csv(r'csv/rappi-pizza-cerritocolorado.csv')\n",
    "df_rappi_cimatario = pd.read_csv(r'csv/rappi-pizza-cimatario.csv')\n",
    "df_rappi_el_pueblito = pd.read_csv(r'csv/rappi-pizza-el-pueblito.csv')\n",
    "\n",
    "frames = [\n",
    "    df_ubereats_centro, \n",
    "    df_ubereats_alamos, \n",
    "    df_ubereats_juriquilla, \n",
    "    df_ubereats_milenio, \n",
    "    df_ubereats_refugio, \n",
    "    df_ubereats_balvanera, \n",
    "    df_ubereats_campanario, \n",
    "    df_ubereats_cerritocolorado, \n",
    "    df_ubereats_cimatario, \n",
    "    df_ubereats_el_pueblito, \n",
    "    df_rappi_centro, \n",
    "    df_rappi_alamos, \n",
    "    df_rappi_juriquilla, \n",
    "    df_rappi_milenio, \n",
    "    df_rappi_refugio, \n",
    "    df_rappi_balvanera, \n",
    "    df_rappi_campanario, \n",
    "    df_rappi_cerritocolorado, \n",
    "    df_rappi_cimatario, \n",
    "    df_rappi_el_pueblito]\n",
    "\n",
    "df_QRO = pd.concat(frames, ignore_index=True)"
   ]
  },
  {
   "cell_type": "code",
   "execution_count": 3,
   "id": "innovative-ratio",
   "metadata": {},
   "outputs": [],
   "source": [
    "df_QRO['price-food'] = df_QRO['price-food'].apply(lambda x: (float(x[3:] if x[0] == 'M' else x[1:]) if not isinstance(x, int) else float(x)) if not isinstance(x, float) else x)"
   ]
  },
  {
   "cell_type": "code",
   "execution_count": 4,
   "id": "numerous-repair",
   "metadata": {},
   "outputs": [],
   "source": [
    "#Se Obtienen unicamnte los productos que incluyen la palabra pizza y los nombres de los productos se convierten a minusculas\n",
    "df_QROP = df_QRO[df_QRO['name-food'].str.contains(\"pizza\", na=False, case=False)]\n",
    "df_QROP = df_QROP.apply(lambda x: x.str.lower() if(x.dtype == \"object\") else x)\n",
    "df_QROP.reset_index(drop=True, inplace=True)"
   ]
  },
  {
   "cell_type": "code",
   "execution_count": 5,
   "id": "lasting-screw",
   "metadata": {},
   "outputs": [
    {
     "data": {
      "text/html": [
       "<div>\n",
       "<style scoped>\n",
       "    .dataframe tbody tr th:only-of-type {\n",
       "        vertical-align: middle;\n",
       "    }\n",
       "\n",
       "    .dataframe tbody tr th {\n",
       "        vertical-align: top;\n",
       "    }\n",
       "\n",
       "    .dataframe thead th {\n",
       "        text-align: right;\n",
       "    }\n",
       "</style>\n",
       "<table border=\"1\" class=\"dataframe\">\n",
       "  <thead>\n",
       "    <tr style=\"text-align: right;\">\n",
       "      <th></th>\n",
       "      <th>name</th>\n",
       "      <th>rating</th>\n",
       "      <th>evals</th>\n",
       "      <th>name-food</th>\n",
       "      <th>price-food</th>\n",
       "    </tr>\n",
       "  </thead>\n",
       "  <tbody>\n",
       "    <tr>\n",
       "      <th>0</th>\n",
       "      <td>güero's pizza</td>\n",
       "      <td>4.7</td>\n",
       "      <td>(42)</td>\n",
       "      <td>pizza especial americana - mediana</td>\n",
       "      <td>303.0</td>\n",
       "    </tr>\n",
       "    <tr>\n",
       "      <th>1</th>\n",
       "      <td>di vino</td>\n",
       "      <td>4.5</td>\n",
       "      <td>(64)</td>\n",
       "      <td>pizza hawaiana</td>\n",
       "      <td>199.0</td>\n",
       "    </tr>\n",
       "    <tr>\n",
       "      <th>2</th>\n",
       "      <td>che-chelas</td>\n",
       "      <td>4.4</td>\n",
       "      <td>(47)</td>\n",
       "      <td>pizza blanca</td>\n",
       "      <td>160.0</td>\n",
       "    </tr>\n",
       "    <tr>\n",
       "      <th>3</th>\n",
       "      <td>cheeseup pizza</td>\n",
       "      <td>NaN</td>\n",
       "      <td>NaN</td>\n",
       "      <td>pizza en pareja</td>\n",
       "      <td>189.0</td>\n",
       "    </tr>\n",
       "    <tr>\n",
       "      <th>4</th>\n",
       "      <td>lynchburg</td>\n",
       "      <td>NaN</td>\n",
       "      <td>NaN</td>\n",
       "      <td>pizza hawaiana</td>\n",
       "      <td>179.0</td>\n",
       "    </tr>\n",
       "    <tr>\n",
       "      <th>...</th>\n",
       "      <td>...</td>\n",
       "      <td>...</td>\n",
       "      <td>...</td>\n",
       "      <td>...</td>\n",
       "      <td>...</td>\n",
       "    </tr>\n",
       "    <tr>\n",
       "      <th>7790</th>\n",
       "      <td>estacion 19</td>\n",
       "      <td>NaN</td>\n",
       "      <td>NaN</td>\n",
       "      <td>pizza pompere</td>\n",
       "      <td>114.0</td>\n",
       "    </tr>\n",
       "    <tr>\n",
       "      <th>7791</th>\n",
       "      <td>trapani pizza</td>\n",
       "      <td>4.8</td>\n",
       "      <td>NaN</td>\n",
       "      <td>combo 2 pizzas grandes</td>\n",
       "      <td>268.0</td>\n",
       "    </tr>\n",
       "    <tr>\n",
       "      <th>7792</th>\n",
       "      <td>piu pizza</td>\n",
       "      <td>4.8</td>\n",
       "      <td>NaN</td>\n",
       "      <td>pizza salami</td>\n",
       "      <td>120.0</td>\n",
       "    </tr>\n",
       "    <tr>\n",
       "      <th>7793</th>\n",
       "      <td>mi piace pizza qro</td>\n",
       "      <td>NaN</td>\n",
       "      <td>NaN</td>\n",
       "      <td>pizza hawaiana</td>\n",
       "      <td>125.0</td>\n",
       "    </tr>\n",
       "    <tr>\n",
       "      <th>7794</th>\n",
       "      <td>nápoles artesanal pizzería</td>\n",
       "      <td>NaN</td>\n",
       "      <td>NaN</td>\n",
       "      <td>pizza capresse</td>\n",
       "      <td>245.0</td>\n",
       "    </tr>\n",
       "  </tbody>\n",
       "</table>\n",
       "<p>7795 rows × 5 columns</p>\n",
       "</div>"
      ],
      "text/plain": [
       "                            name  rating evals  \\\n",
       "0                  güero's pizza     4.7  (42)   \n",
       "1                        di vino     4.5  (64)   \n",
       "2                     che-chelas     4.4  (47)   \n",
       "3                 cheeseup pizza     NaN   NaN   \n",
       "4                      lynchburg     NaN   NaN   \n",
       "...                          ...     ...   ...   \n",
       "7790                 estacion 19     NaN   NaN   \n",
       "7791               trapani pizza     4.8   NaN   \n",
       "7792                   piu pizza     4.8   NaN   \n",
       "7793          mi piace pizza qro     NaN   NaN   \n",
       "7794  nápoles artesanal pizzería     NaN   NaN   \n",
       "\n",
       "                               name-food  price-food  \n",
       "0     pizza especial americana - mediana       303.0  \n",
       "1                         pizza hawaiana       199.0  \n",
       "2                           pizza blanca       160.0  \n",
       "3                        pizza en pareja       189.0  \n",
       "4                         pizza hawaiana       179.0  \n",
       "...                                  ...         ...  \n",
       "7790                       pizza pompere       114.0  \n",
       "7791              combo 2 pizzas grandes       268.0  \n",
       "7792                        pizza salami       120.0  \n",
       "7793                      pizza hawaiana       125.0  \n",
       "7794                      pizza capresse       245.0  \n",
       "\n",
       "[7795 rows x 5 columns]"
      ]
     },
     "execution_count": 5,
     "metadata": {},
     "output_type": "execute_result"
    }
   ],
   "source": [
    "#Se muestra el cambio \n",
    "df_QROP.loc[:,['name','rating','evals','name-food','price-food']]"
   ]
  },
  {
   "cell_type": "code",
   "execution_count": 6,
   "id": "labeled-peninsula",
   "metadata": {},
   "outputs": [
    {
     "name": "stdout",
     "output_type": "stream",
     "text": [
      "Total de pizzerias estudiadas: \n",
      "413\n"
     ]
    }
   ],
   "source": [
    "dframeTot = df_QROP.loc[:,['name','rating','evals']]\n",
    "NumRestaurantes = dframeTot.drop_duplicates()\n",
    "print('Total de pizzerias estudiadas: ')\n",
    "print(NumRestaurantes['name'].count())"
   ]
  },
  {
   "cell_type": "code",
   "execution_count": 7,
   "id": "double-childhood",
   "metadata": {},
   "outputs": [
    {
     "name": "stdout",
     "output_type": "stream",
     "text": [
      "                  name-food  name\n",
      "156          pizza 4 quesos    30\n",
      "332      pizza carnes frías    35\n",
      "534   pizza de carnes frías    24\n",
      "619      pizza de pepperoni    52\n",
      "656          pizza de queso    21\n",
      "996          pizza hawaiana   125\n",
      "1043         pizza italiana    35\n",
      "1122        pizza margarita    60\n",
      "1129       pizza margherita    30\n",
      "1206         pizza mexicana    89\n",
      "1314        pizza pepperoni    71\n",
      "1432         pizza ranchera    26\n",
      "1612      pizza vegetariana    94\n"
     ]
    }
   ],
   "source": [
    "#Menu Tipico de las Pizzerias de Qro\n",
    "MenuTipico = df_QROP.groupby('name-food').name.nunique().reset_index()\n",
    "print(MenuTipico.loc[MenuTipico['name'] > 20])"
   ]
  },
  {
   "cell_type": "code",
   "execution_count": 8,
   "id": "accessible-transformation",
   "metadata": {},
   "outputs": [],
   "source": [
    "Pizza = ['4 Quesos','Carnes Frias','Pepperoni','Queso','Hawaiana','Italiana','Margherita','Mexicana','Ranchera','Vegetariana']\n",
    "Comun = [30,59,123,21,125,35,90,89,26,94]"
   ]
  },
  {
   "cell_type": "code",
   "execution_count": 9,
   "id": "confirmed-yeast",
   "metadata": {},
   "outputs": [
    {
     "data": {
      "image/png": "[encoded data removed]",
      "text/plain": [
       "<Figure size 432x288 with 1 Axes>"
      ]
     },
     "metadata": {},
     "output_type": "display_data"
    }
   ],
   "source": [
    "plt.pie(Comun, labels=Pizza)\n",
    "plt.title('Menu Tipico de Pizzerias en QRO')\n",
    "plt.show()"
   ]
  },
  {
   "cell_type": "code",
   "execution_count": 11,
   "id": "moved-offering",
   "metadata": {},
   "outputs": [
    {
     "name": "stdout",
     "output_type": "stream",
     "text": [
      "175.79896454265162\n"
     ]
    }
   ],
   "source": [
    "#Precio Promedio de una pizza en Qro\n",
    "meanPizzaVal = df_QROP['price-food'].mean()\n",
    "print(meanPizzaVal)"
   ]
  },
  {
   "cell_type": "code",
   "execution_count": 13,
   "id": "korean-disease",
   "metadata": {},
   "outputs": [
    {
     "data": {
      "image/png": "[encoded data removed]",
      "text/plain": [
       "<Figure size 1080x360 with 1 Axes>"
      ]
     },
     "metadata": {
      "needs_background": "light"
     },
     "output_type": "display_data"
    }
   ],
   "source": [
    "#Dispercion de Precios Pizza en QRO\n",
    "plt.figure(figsize = (15, 5))\n",
    "plt.title('Precio de Pizza')\n",
    "plt.ylabel('Precio')\n",
    "plt.xlabel('ID')\n",
    "plt.plot(df_QROP['price-food'],'ro',ms=1)\n",
    "plt.show()"
   ]
  },
  {
   "cell_type": "code",
   "execution_count": 14,
   "id": "monthly-battle",
   "metadata": {},
   "outputs": [
    {
     "data": {
      "text/plain": [
       "61.962512044386536"
      ]
     },
     "execution_count": 14,
     "metadata": {},
     "output_type": "execute_result"
    }
   ],
   "source": [
    "# Se calcula la Varianza con numpy\n",
    "numpy.std(df_QROP['price-food'])"
   ]
  },
  {
   "cell_type": "code",
   "execution_count": null,
   "id": "representative-huntington",
   "metadata": {},
   "outputs": [],
   "source": []
  }
 ],
 "metadata": {
  "kernelspec": {
   "display_name": "Python 3",
   "language": "python",
   "name": "python3"
  },
  "language_info": {
   "codemirror_mode": {
    "name": "ipython",
    "version": 3
   },
   "file_extension": ".py",
   "mimetype": "text/x-python",
   "name": "python",
   "nbconvert_exporter": "python",
   "pygments_lexer": "ipython3",
   "version": "3.6.9"
  }
 },
 "nbformat": 4,
 "nbformat_minor": 5
}
