{
 "cells": [
  {
   "cell_type": "code",
   "execution_count": 2,
   "id": "editorial-dylan",
   "metadata": {},
   "outputs": [],
   "source": [
    "import pandas as pd\n",
    "df= pd.read_csv('pizzacentro.csv')"
   ]
  },
  {
   "cell_type": "code",
   "execution_count": 3,
   "id": "competent-infection",
   "metadata": {},
   "outputs": [
    {
     "name": "stdout",
     "output_type": "stream",
     "text": [
      "   web-scraper-order                              web-scraper-start-url  \\\n",
      "0      1614898159-71  https://www.rappi.com.mx/restaurantes/category...   \n",
      "1      1614898159-66  https://www.rappi.com.mx/restaurantes/category...   \n",
      "2      1614898159-61  https://www.rappi.com.mx/restaurantes/category...   \n",
      "3      1614898159-50  https://www.rappi.com.mx/restaurantes/category...   \n",
      "4      1614898159-37  https://www.rappi.com.mx/restaurantes/category...   \n",
      "5      1614898159-59  https://www.rappi.com.mx/restaurantes/category...   \n",
      "6      1614898159-51  https://www.rappi.com.mx/restaurantes/category...   \n",
      "7      1614898159-64  https://www.rappi.com.mx/restaurantes/category...   \n",
      "8      1614898159-45  https://www.rappi.com.mx/restaurantes/category...   \n",
      "9      1614898159-56  https://www.rappi.com.mx/restaurantes/category...   \n",
      "10     1614898159-47  https://www.rappi.com.mx/restaurantes/category...   \n",
      "11     1614898159-68  https://www.rappi.com.mx/restaurantes/category...   \n",
      "12     1614898159-34  https://www.rappi.com.mx/restaurantes/category...   \n",
      "13     1614898159-48  https://www.rappi.com.mx/restaurantes/category...   \n",
      "14     1614898159-43  https://www.rappi.com.mx/restaurantes/category...   \n",
      "15     1614898159-38  https://www.rappi.com.mx/restaurantes/category...   \n",
      "16     1614898159-55  https://www.rappi.com.mx/restaurantes/category...   \n",
      "17     1614898159-60  https://www.rappi.com.mx/restaurantes/category...   \n",
      "18     1614898159-40  https://www.rappi.com.mx/restaurantes/category...   \n",
      "19     1614898159-65  https://www.rappi.com.mx/restaurantes/category...   \n",
      "20     1614898159-58  https://www.rappi.com.mx/restaurantes/category...   \n",
      "21     1614898159-41  https://www.rappi.com.mx/restaurantes/category...   \n",
      "22     1614898159-62  https://www.rappi.com.mx/restaurantes/category...   \n",
      "23     1614898159-69  https://www.rappi.com.mx/restaurantes/category...   \n",
      "24     1614898159-39  https://www.rappi.com.mx/restaurantes/category...   \n",
      "25     1614898159-57  https://www.rappi.com.mx/restaurantes/category...   \n",
      "26     1614898159-36  https://www.rappi.com.mx/restaurantes/category...   \n",
      "27     1614898159-63  https://www.rappi.com.mx/restaurantes/category...   \n",
      "28     1614898159-49  https://www.rappi.com.mx/restaurantes/category...   \n",
      "29     1614898159-67  https://www.rappi.com.mx/restaurantes/category...   \n",
      "30     1614898159-35  https://www.rappi.com.mx/restaurantes/category...   \n",
      "31     1614898159-72  https://www.rappi.com.mx/restaurantes/category...   \n",
      "32     1614898159-54  https://www.rappi.com.mx/restaurantes/category...   \n",
      "33     1614898159-46  https://www.rappi.com.mx/restaurantes/category...   \n",
      "34     1614898159-70  https://www.rappi.com.mx/restaurantes/category...   \n",
      "35     1614898159-52  https://www.rappi.com.mx/restaurantes/category...   \n",
      "36     1614898159-42  https://www.rappi.com.mx/restaurantes/category...   \n",
      "37     1614898159-44  https://www.rappi.com.mx/restaurantes/category...   \n",
      "38     1614898159-33  https://www.rappi.com.mx/restaurantes/category...   \n",
      "39     1614898159-53  https://www.rappi.com.mx/restaurantes/category...   \n",
      "\n",
      "                                 name  ranked deliverytime  \n",
      "0                          El Reinita     NaN      30 mins  \n",
      "1                           Ké-Chelas     NaN      35 mins  \n",
      "2                         The Factory     NaN      34 mins  \n",
      "3                   La Piccola Italia     NaN      34 mins  \n",
      "4                      Cosi Fan Tutte     4.4      42 mins  \n",
      "5                    Pizzería Ragazzo     NaN      42 mins  \n",
      "6                         Benedetti's     NaN      34 mins  \n",
      "7                         College Bar     NaN      30 mins  \n",
      "8                      La Patrona QRO     4.4      29 mins  \n",
      "9                          La Gabella     NaN      38 mins  \n",
      "10                     Tonino´s Pizza     NaN      43 mins  \n",
      "11                           Diktatur     5.0      36 mins  \n",
      "12                            Pizzeta     4.7      27 mins  \n",
      "13                              Bruno     4.5      35 mins  \n",
      "14                  La Vieja Varsovia     NaN      30 mins  \n",
      "15                     Tonino's Pizza     4.9      33 mins  \n",
      "16                         Che Chelas     NaN      35 mins  \n",
      "17          TOSCANO PIZZA & ESPRESSOS     NaN      38 mins  \n",
      "18                      Santa Fortuna     NaN      47 mins  \n",
      "19                          Dio Pizza     NaN      47 mins  \n",
      "20                          Pizza Tec     NaN      34 mins  \n",
      "21                       Zapata Pizza     4.5      47 mins  \n",
      "22                          Cheese Up     4.3      39 mins  \n",
      "23               La Piccola Trattoria     NaN      30 mins  \n",
      "24                            Crécola     4.7      42 mins  \n",
      "25                         Dio Pizza.     NaN      49 mins  \n",
      "26                         Il Diavolo     4.7      33 mins  \n",
      "27         Di Vino Italian Restaurant     NaN      30 mins  \n",
      "28                       Brutus Pizza     4.8      43 mins  \n",
      "29  Ketomorfosis By Cosecha Propia Mx     NaN      37 mins  \n",
      "30                          Pizza Hut     4.5      38 mins  \n",
      "31       Gab's Pizzas, Burritos y Mas     NaN      34 mins  \n",
      "32          Napoli Pizza Plaza Callao     NaN      33 mins  \n",
      "33                      Güero's Pizza     NaN      49 mins  \n",
      "34                        Lucco Pizza     NaN      36 mins  \n",
      "35           California Pizza Kitchen     NaN      39 mins  \n",
      "36                    Abuelitas Pizza     4.8      37 mins  \n",
      "37                   Il Pizzaiolo Qro     4.4      47 mins  \n",
      "38                     Little Caesars     4.7      33 mins  \n",
      "39                          Gusto Mío     NaN      30 mins  \n"
     ]
    }
   ],
   "source": [
    "print(df)"
   ]
  },
  {
   "cell_type": "code",
   "execution_count": null,
   "id": "collect-familiar",
   "metadata": {},
   "outputs": [],
   "source": []
  }
 ],
 "metadata": {
  "kernelspec": {
   "display_name": "Python 3",
   "language": "python",
   "name": "python3"
  },
  "language_info": {
   "codemirror_mode": {
    "name": "ipython",
    "version": 3
   },
   "file_extension": ".py",
   "mimetype": "text/x-python",
   "name": "python",
   "nbconvert_exporter": "python",
   "pygments_lexer": "ipython3",
   "version": "3.6.9"
  }
 },
 "nbformat": 4,
 "nbformat_minor": 5
}
