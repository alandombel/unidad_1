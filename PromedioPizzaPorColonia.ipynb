{
 "cells": [
  {
   "cell_type": "code",
   "execution_count": 1,
   "id": "enclosed-identification",
   "metadata": {},
   "outputs": [],
   "source": [
    "import pandas as pd\n",
    "import numpy\n",
    "import matplotlib.pyplot as plt"
   ]
  },
  {
   "cell_type": "code",
   "execution_count": 3,
   "id": "aboriginal-david",
   "metadata": {},
   "outputs": [],
   "source": [
    "# Se importan los CSV de las 10 colonias\n",
    "df_ubereats_centro = pd.read_csv(r'csv/ubereats-pizza-centro.csv')\n",
    "df_ubereats_alamos = pd.read_csv(r'csv/ubereats-pizza-alamos.csv')\n",
    "df_ubereats_juriquilla = pd.read_csv(r'csv/ubereats-pizza-juriquilla.csv')\n",
    "df_ubereats_milenio = pd.read_csv(r'csv/ubereats-pizza-milenio.csv')\n",
    "df_ubereats_refugio = pd.read_csv(r'csv/ubereats-pizza-refugio.csv')\n",
    "\n",
    "df_ubereats_balvanera = pd.read_csv(r'csv/ubereats-pizza-balvanera.csv')\n",
    "df_ubereats_campanario = pd.read_csv(r'csv/ubereats-pizza-campanario.csv')\n",
    "df_ubereats_cerritocolorado = pd.read_csv(r'csv/ubereats-pizza-cerritocolorado.csv')\n",
    "df_ubereats_cimatario = pd.read_csv(r'csv/ubereats-pizza-cimatario.csv')\n",
    "df_ubereats_el_pueblito = pd.read_csv(r'csv/ubereats-pizza-el-pueblito.csv')\n",
    "\n",
    "df_rappi_centro = pd.read_csv(r'csv/rappi-pizza-centro.csv')\n",
    "df_rappi_alamos = pd.read_csv(r'csv/rappi-pizza-alamos.csv')\n",
    "df_rappi_juriquilla = pd.read_csv(r'csv/rappi-pizza-juriquilla.csv')\n",
    "df_rappi_milenio = pd.read_csv(r'csv/rappi-pizza-milenio.csv')\n",
    "df_rappi_refugio = pd.read_csv(r'csv/rappi-pizza-refugio.csv')\n",
    "\n",
    "df_rappi_balvanera = pd.read_csv(r'csv/rappi-pizza-balvanera.csv')\n",
    "df_rappi_campanario = pd.read_csv(r'csv/rappi-pizza-campanario.csv')\n",
    "df_rappi_cerritocolorado = pd.read_csv(r'csv/rappi-pizza-cerritocolorado.csv')\n",
    "df_rappi_cimatario = pd.read_csv(r'csv/rappi-pizza-cimatario.csv')\n",
    "df_rappi_el_pueblito = pd.read_csv(r'csv/rappi-pizza-el-pueblito.csv')\n",
    "\n",
    "centro = [df_ubereats_centro,df_rappi_centro]\n",
    "alamos = [df_ubereats_alamos,df_rappi_alamos]\n",
    "juriquilla = [df_ubereats_juriquilla,df_rappi_juriquilla]\n",
    "milenio = [df_ubereats_milenio,df_rappi_milenio] \n",
    "refugio = [df_ubereats_refugio,df_rappi_refugio]\n",
    "\n",
    "balvanera = [df_ubereats_balvanera,df_rappi_balvanera]\n",
    "campanario = [df_ubereats_campanario,df_rappi_campanario]\n",
    "cerritoC = [df_ubereats_cerritocolorado,df_rappi_cerritocolorado]\n",
    "cimatario = [df_ubereats_cimatario,df_rappi_cimatario]\n",
    "pueblito = [df_ubereats_el_pueblito,df_rappi_el_pueblito]\n",
    "\n",
    "df_centro = pd.concat(centro, ignore_index=True)\n",
    "df_alamos = pd.concat(alamos, ignore_index=True)\n",
    "df_juriquilla = pd.concat(juriquilla, ignore_index=True)\n",
    "df_milenio = pd.concat(milenio, ignore_index=True)\n",
    "df_refugio = pd.concat(refugio, ignore_index=True)\n",
    "df_balvanera = pd.concat(balvanera, ignore_index=True)\n",
    "df_campanario = pd.concat(campanario, ignore_index=True)\n",
    "df_cerritoC = pd.concat(cerritoC, ignore_index=True)\n",
    "df_cimatario = pd.concat(cimatario, ignore_index=True)\n",
    "df_pueblito = pd.concat(pueblito, ignore_index=True)"
   ]
  },
  {
   "cell_type": "code",
   "execution_count": 5,
   "id": "laden-violence",
   "metadata": {},
   "outputs": [],
   "source": [
    "#Se limpia el precio para remover el MX$\n",
    "df_centro['price-food'] = df_centro['price-food'].apply(lambda x: (float(x[3:] if x[0] == 'M' else x[1:]) if not isinstance(x, int) else float(x)) if not isinstance(x, float) else x)\n",
    "df_alamos['price-food'] = df_alamos['price-food'].apply(lambda x: (float(x[3:] if x[0] == 'M' else x[1:]) if not isinstance(x, int) else float(x)) if not isinstance(x, float) else x)\n",
    "df_juriquilla['price-food'] = df_juriquilla['price-food'].apply(lambda x: (float(x[3:] if x[0] == 'M' else x[1:]) if not isinstance(x, int) else float(x)) if not isinstance(x, float) else x)\n",
    "df_milenio['price-food'] = df_milenio['price-food'].apply(lambda x: (float(x[3:] if x[0] == 'M' else x[1:]) if not isinstance(x, int) else float(x)) if not isinstance(x, float) else x)\n",
    "df_refugio['price-food'] = df_refugio['price-food'].apply(lambda x: (float(x[3:] if x[0] == 'M' else x[1:]) if not isinstance(x, int) else float(x)) if not isinstance(x, float) else x)\n",
    "df_balvanera['price-food'] = df_balvanera['price-food'].apply(lambda x: (float(x[3:] if x[0] == 'M' else x[1:]) if not isinstance(x, int) else float(x)) if not isinstance(x, float) else x)\n",
    "df_campanario['price-food'] = df_campanario['price-food'].apply(lambda x: (float(x[3:] if x[0] == 'M' else x[1:]) if not isinstance(x, int) else float(x)) if not isinstance(x, float) else x)\n",
    "df_cerritoC['price-food'] = df_cerritoC['price-food'].apply(lambda x: (float(x[3:] if x[0] == 'M' else x[1:]) if not isinstance(x, int) else float(x)) if not isinstance(x, float) else x)\n",
    "df_cimatario['price-food'] = df_cimatario['price-food'].apply(lambda x: (float(x[3:] if x[0] == 'M' else x[1:]) if not isinstance(x, int) else float(x)) if not isinstance(x, float) else x)\n",
    "df_pueblito['price-food'] = df_pueblito['price-food'].apply(lambda x: (float(x[3:] if x[0] == 'M' else x[1:]) if not isinstance(x, int) else float(x)) if not isinstance(x, float) else x)\n"
   ]
  },
  {
   "cell_type": "code",
   "execution_count": 9,
   "id": "norwegian-copyright",
   "metadata": {},
   "outputs": [],
   "source": [
    "#Se Obtienen unicamnte los productos que incluyen la palabra pizza\n",
    "df_centroP = df_centro[df_centro['name-food'].str.contains(\"pizza\", na=False, case=False)]\n",
    "df_centroP.reset_index(drop=True, inplace=True)\n",
    "\n",
    "df_alamosP = df_alamos[df_alamos['name-food'].str.contains(\"pizza\", na=False, case=False)]\n",
    "df_alamosP.reset_index(drop=True, inplace=True)\n",
    "\n",
    "df_juriquillaP = df_juriquilla[df_juriquilla['name-food'].str.contains(\"pizza\", na=False, case=False)]\n",
    "df_juriquillaP.reset_index(drop=True, inplace=True)\n",
    "\n",
    "df_milenioP = df_milenio[df_milenio['name-food'].str.contains(\"pizza\", na=False, case=False)]\n",
    "df_milenioP.reset_index(drop=True, inplace=True)\n",
    "\n",
    "df_refugioP = df_refugio[df_refugio['name-food'].str.contains(\"pizza\", na=False, case=False)]\n",
    "df_refugioP.reset_index(drop=True, inplace=True)\n",
    "\n",
    "df_balvaneraP = df_balvanera[df_balvanera['name-food'].str.contains(\"pizza\", na=False, case=False)]\n",
    "df_balvaneraP.reset_index(drop=True, inplace=True)\n",
    "\n",
    "df_campanarioP = df_campanario[df_campanario['name-food'].str.contains(\"pizza\", na=False, case=False)]\n",
    "df_campanarioP.reset_index(drop=True, inplace=True)\n",
    "\n",
    "df_cerritoCP = df_cerritoC[df_cerritoC['name-food'].str.contains(\"pizza\", na=False, case=False)]\n",
    "df_cerritoCP.reset_index(drop=True, inplace=True)\n",
    "\n",
    "df_cimatarioP = df_cimatario[df_cimatario['name-food'].str.contains(\"pizza\", na=False, case=False)]\n",
    "df_cimatarioP.reset_index(drop=True, inplace=True)\n",
    "\n",
    "df_pueblitoP = df_pueblito[df_pueblito['name-food'].str.contains(\"pizza\", na=False, case=False)]\n",
    "df_pueblitoP.reset_index(drop=True, inplace=True)\n"
   ]
  },
  {
   "cell_type": "code",
   "execution_count": 14,
   "id": "sacred-niagara",
   "metadata": {},
   "outputs": [
    {
     "name": "stdout",
     "output_type": "stream",
     "text": [
      "Centro\n",
      "181.59377997179126\n",
      "Alamos\n",
      "176.3359879032258\n",
      "Juruquilla\n",
      "176.07762938230383\n",
      "Milenio\n",
      "178.9778624535316\n",
      "Refugio\n",
      "192.55559210526317\n",
      "Balvanera\n",
      "172.1778947368421\n",
      "Campanario\n",
      "183.73896321070234\n",
      "CerritoC\n",
      "148.33047895500727\n",
      "Cimatario\n",
      "179.02812407680946\n",
      "Pueblito\n",
      "163.49787234042554\n"
     ]
    }
   ],
   "source": [
    "#Se Obtienen los Promedios \n",
    "PromCentro = df_centroP['price-food'].mean()\n",
    "print('Centro')\n",
    "print(PromCentro)\n",
    "PromAlamos = df_alamosP['price-food'].mean()\n",
    "print('Alamos')\n",
    "print(PromAlamos)\n",
    "PromJuriquilla = df_juriquillaP['price-food'].mean()\n",
    "print('Juruquilla')\n",
    "print(PromJuriquilla)\n",
    "PromMilenio = df_milenioP['price-food'].mean()\n",
    "print('Milenio')\n",
    "print(PromMilenio)\n",
    "PromRefugio = df_refugioP['price-food'].mean()\n",
    "print('Refugio')\n",
    "print(PromRefugio)\n",
    "PromBalvanera = df_balvaneraP['price-food'].mean()\n",
    "print('Balvanera')\n",
    "print(PromBalvanera)\n",
    "PromCampanario = df_campanarioP['price-food'].mean()\n",
    "print('Campanario')\n",
    "print(PromCampanario)\n",
    "PromCerrito = df_cerritoCP['price-food'].mean()\n",
    "print('CerritoC')\n",
    "print(PromCerrito)\n",
    "PromCimatario = df_cimatarioP['price-food'].mean()\n",
    "print('Cimatario')\n",
    "print(PromCimatario)\n",
    "PromPueblito = df_pueblitoP['price-food'].mean()\n",
    "print('Pueblito')\n",
    "print(PromPueblito)"
   ]
  },
  {
   "cell_type": "code",
   "execution_count": 18,
   "id": "standing-princeton",
   "metadata": {},
   "outputs": [
    {
     "data": {
      "image/png": "[encoded data removed]",
      "text/plain": [
       "<Figure size 432x288 with 1 Axes>"
      ]
     },
     "metadata": {
      "needs_background": "light"
     },
     "output_type": "display_data"
    }
   ],
   "source": [
    "plt.barh(['Centro','Alamos','Juriquilla','Milenio 3','El Refugio','Balvanera','El Campanario','Cerrito Colorado','Cimatario','El Pueblito'],[PromCentro,PromAlamos,PromJuriquilla,PromMilenio,PromRefugio,PromBalvanera,PromCampanario,PromCerrito,PromCimatario,PromPueblito])\n",
    "plt.xlabel('Precio')\n",
    "plt.title('Precios Promedio de Pizzas por Colonia')\n",
    "plt.show()"
   ]
  },
  {
   "cell_type": "code",
   "execution_count": null,
   "id": "employed-riding",
   "metadata": {},
   "outputs": [],
   "source": []
  }
 ],
 "metadata": {
  "kernelspec": {
   "display_name": "Python 3",
   "language": "python",
   "name": "python3"
  },
  "language_info": {
   "codemirror_mode": {
    "name": "ipython",
    "version": 3
   },
   "file_extension": ".py",
   "mimetype": "text/x-python",
   "name": "python",
   "nbconvert_exporter": "python",
   "pygments_lexer": "ipython3",
   "version": "3.6.9"
  }
 },
 "nbformat": 4,
 "nbformat_minor": 5
}
