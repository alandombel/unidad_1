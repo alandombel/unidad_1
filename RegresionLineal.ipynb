{
 "cells": [
  {
   "cell_type": "code",
   "execution_count": 1,
   "id": "intensive-clear",
   "metadata": {},
   "outputs": [],
   "source": [
    "import pandas as pd\n",
    "from sklearn import linear_model"
   ]
  },
  {
   "cell_type": "code",
   "execution_count": 2,
   "id": "effective-chase",
   "metadata": {},
   "outputs": [],
   "source": [
    "calificacioneshector = pd.DataFrame([80,85,75,70])"
   ]
  },
  {
   "cell_type": "code",
   "execution_count": 3,
   "id": "commercial-corpus",
   "metadata": {},
   "outputs": [],
   "source": [
    "unidades = pd.DataFrame([1,2,3,4])"
   ]
  },
  {
   "cell_type": "code",
   "execution_count": 4,
   "id": "found-kingston",
   "metadata": {},
   "outputs": [],
   "source": [
    "model = linear_model.LinearRegression()"
   ]
  },
  {
   "cell_type": "code",
   "execution_count": 5,
   "id": "wicked-piece",
   "metadata": {},
   "outputs": [
    {
     "data": {
      "text/plain": [
       "LinearRegression()"
      ]
     },
     "execution_count": 5,
     "metadata": {},
     "output_type": "execute_result"
    }
   ],
   "source": [
    "model.fit(unidades,calificacioneshector)"
   ]
  },
  {
   "cell_type": "code",
   "execution_count": 6,
   "id": "retired-spanking",
   "metadata": {},
   "outputs": [
    {
     "data": {
      "text/plain": [
       "array([[67.5]])"
      ]
     },
     "execution_count": 6,
     "metadata": {},
     "output_type": "execute_result"
    }
   ],
   "source": [
    "model.predict(pd.DataFrame([5]))"
   ]
  },
  {
   "cell_type": "code",
   "execution_count": 7,
   "id": "listed-solomon",
   "metadata": {},
   "outputs": [],
   "source": [
    "metroscuadrados = pd.DataFrame([92,110,135,180,300])"
   ]
  },
  {
   "cell_type": "code",
   "execution_count": 8,
   "id": "regulated-mozambique",
   "metadata": {},
   "outputs": [],
   "source": [
    "precios = pd.DataFrame([2.5,2.8,3.2,4.5,6.2])"
   ]
  },
  {
   "cell_type": "code",
   "execution_count": 9,
   "id": "impossible-worst",
   "metadata": {},
   "outputs": [],
   "source": [
    "model = linear_model.LinearRegression()"
   ]
  },
  {
   "cell_type": "code",
   "execution_count": 10,
   "id": "differential-aurora",
   "metadata": {},
   "outputs": [
    {
     "data": {
      "text/plain": [
       "LinearRegression()"
      ]
     },
     "execution_count": 10,
     "metadata": {},
     "output_type": "execute_result"
    }
   ],
   "source": [
    "model.fit(metroscuadrados,precios)"
   ]
  },
  {
   "cell_type": "code",
   "execution_count": 11,
   "id": "governing-creation",
   "metadata": {},
   "outputs": [
    {
     "data": {
      "text/plain": [
       "array([[3.05209453]])"
      ]
     },
     "execution_count": 11,
     "metadata": {},
     "output_type": "execute_result"
    }
   ],
   "source": [
    "model.predict(pd.DataFrame([120]))"
   ]
  },
  {
   "cell_type": "code",
   "execution_count": null,
   "id": "referenced-might",
   "metadata": {},
   "outputs": [],
   "source": []
  },
  {
   "cell_type": "code",
   "execution_count": null,
   "id": "native-stream",
   "metadata": {},
   "outputs": [],
   "source": []
  }
 ],
 "metadata": {
  "kernelspec": {
   "display_name": "Python 3",
   "language": "python",
   "name": "python3"
  },
  "language_info": {
   "codemirror_mode": {
    "name": "ipython",
    "version": 3
   },
   "file_extension": ".py",
   "mimetype": "text/x-python",
   "name": "python",
   "nbconvert_exporter": "python",
   "pygments_lexer": "ipython3",
   "version": "3.6.9"
  }
 },
 "nbformat": 4,
 "nbformat_minor": 5
}
