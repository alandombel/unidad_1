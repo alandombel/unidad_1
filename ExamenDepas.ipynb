{
 "cells": [
  {
   "cell_type": "code",
   "execution_count": 1,
   "id": "rising-productivity",
   "metadata": {},
   "outputs": [],
   "source": [
    "import pandas as pd\n",
    "from sklearn import linear_model\n",
    "from sklearn.model_selection import train_test_split"
   ]
  },
  {
   "cell_type": "code",
   "execution_count": 2,
   "id": "collaborative-utility",
   "metadata": {},
   "outputs": [],
   "source": [
    "df_depasFULL = pd.read_csv(r'csvRS/departamentos-pro.csv')"
   ]
  },
  {
   "cell_type": "code",
   "execution_count": 3,
   "id": "mobile-victorian",
   "metadata": {},
   "outputs": [],
   "source": [
    "#Se limpian los valores de precio y mets y se convierte a flotantes\n",
    "df_depasFULL['precio'] = df_depasFULL['precio'].replace('[^\\d.]', '', regex=True).astype(float)\n",
    "df_depasFULL['mets'] = df_depasFULL['mets'].replace('[^\\d.]', '', regex=True).astype(float)"
   ]
  },
  {
   "cell_type": "code",
   "execution_count": 4,
   "id": "electrical-saint",
   "metadata": {},
   "outputs": [],
   "source": [
    "df_depasFULL = df_depasFULL[df_depasFULL['web-scraper-start-url'].str.contains(\"campanario\", na=False, case=False)]\n",
    "df_depasFULL.reset_index(drop=True, inplace=True)"
   ]
  },
  {
   "cell_type": "code",
   "execution_count": 5,
   "id": "reduced-nelson",
   "metadata": {},
   "outputs": [
    {
     "data": {
      "text/html": [
       "<div>\n",
       "<style scoped>\n",
       "    .dataframe tbody tr th:only-of-type {\n",
       "        vertical-align: middle;\n",
       "    }\n",
       "\n",
       "    .dataframe tbody tr th {\n",
       "        vertical-align: top;\n",
       "    }\n",
       "\n",
       "    .dataframe thead th {\n",
       "        text-align: right;\n",
       "    }\n",
       "</style>\n",
       "<table border=\"1\" class=\"dataframe\">\n",
       "  <thead>\n",
       "    <tr style=\"text-align: right;\">\n",
       "      <th></th>\n",
       "      <th>titulo</th>\n",
       "      <th>precio</th>\n",
       "      <th>mets</th>\n",
       "    </tr>\n",
       "  </thead>\n",
       "  <tbody>\n",
       "    <tr>\n",
       "      <th>0</th>\n",
       "      <td>RENTA DE DEPARTAMENTO EN EL CAMPANARIO 3 RECÁM...</td>\n",
       "      <td>19500.0</td>\n",
       "      <td>96.0</td>\n",
       "    </tr>\n",
       "    <tr>\n",
       "      <th>1</th>\n",
       "      <td>Renta departamento amueblado Adamant Queretaro</td>\n",
       "      <td>19000.0</td>\n",
       "      <td>76.0</td>\n",
       "    </tr>\n",
       "    <tr>\n",
       "      <th>2</th>\n",
       "      <td>DEPARTAMENTO NUEVO EN LA RESERVA EL CAMPANARIO</td>\n",
       "      <td>15000.0</td>\n",
       "      <td>113.0</td>\n",
       "    </tr>\n",
       "    <tr>\n",
       "      <th>3</th>\n",
       "      <td>Renta Departamento Adamant Queretaro  Amueblado</td>\n",
       "      <td>19000.0</td>\n",
       "      <td>75.0</td>\n",
       "    </tr>\n",
       "    <tr>\n",
       "      <th>4</th>\n",
       "      <td>DEPARTAMENTO NUEVO AMUEBLADO EN CITY VIEW</td>\n",
       "      <td>24000.0</td>\n",
       "      <td>133.0</td>\n",
       "    </tr>\n",
       "    <tr>\n",
       "      <th>...</th>\n",
       "      <td>...</td>\n",
       "      <td>...</td>\n",
       "      <td>...</td>\n",
       "    </tr>\n",
       "    <tr>\n",
       "      <th>172</th>\n",
       "      <td>Campanario, Departamento en Noveno Piso en Ren...</td>\n",
       "      <td>18000.0</td>\n",
       "      <td>57.0</td>\n",
       "    </tr>\n",
       "    <tr>\n",
       "      <th>173</th>\n",
       "      <td>Departamento Sin Amueblar El Campanario de 120...</td>\n",
       "      <td>29000.0</td>\n",
       "      <td>120.0</td>\n",
       "    </tr>\n",
       "    <tr>\n",
       "      <th>174</th>\n",
       "      <td>Renta Departamento Amueblado Adamant</td>\n",
       "      <td>17000.0</td>\n",
       "      <td>56.0</td>\n",
       "    </tr>\n",
       "    <tr>\n",
       "      <th>175</th>\n",
       "      <td>Departamento - Fraccionamiento El Campanario</td>\n",
       "      <td>22000.0</td>\n",
       "      <td>234.0</td>\n",
       "    </tr>\n",
       "    <tr>\n",
       "      <th>176</th>\n",
       "      <td>Departamento en Renta - El Campanario, Elite -...</td>\n",
       "      <td>22000.0</td>\n",
       "      <td>123.0</td>\n",
       "    </tr>\n",
       "  </tbody>\n",
       "</table>\n",
       "<p>177 rows × 3 columns</p>\n",
       "</div>"
      ],
      "text/plain": [
       "                                                titulo   precio   mets\n",
       "0    RENTA DE DEPARTAMENTO EN EL CAMPANARIO 3 RECÁM...  19500.0   96.0\n",
       "1       Renta departamento amueblado Adamant Queretaro  19000.0   76.0\n",
       "2       DEPARTAMENTO NUEVO EN LA RESERVA EL CAMPANARIO  15000.0  113.0\n",
       "3      Renta Departamento Adamant Queretaro  Amueblado  19000.0   75.0\n",
       "4            DEPARTAMENTO NUEVO AMUEBLADO EN CITY VIEW  24000.0  133.0\n",
       "..                                                 ...      ...    ...\n",
       "172  Campanario, Departamento en Noveno Piso en Ren...  18000.0   57.0\n",
       "173  Departamento Sin Amueblar El Campanario de 120...  29000.0  120.0\n",
       "174               Renta Departamento Amueblado Adamant  17000.0   56.0\n",
       "175       Departamento - Fraccionamiento El Campanario  22000.0  234.0\n",
       "176  Departamento en Renta - El Campanario, Elite -...  22000.0  123.0\n",
       "\n",
       "[177 rows x 3 columns]"
      ]
     },
     "execution_count": 5,
     "metadata": {},
     "output_type": "execute_result"
    }
   ],
   "source": [
    "df_depasFULL.loc[:,['titulo','precio','mets']]"
   ]
  },
  {
   "cell_type": "code",
   "execution_count": 6,
   "id": "boolean-logan",
   "metadata": {},
   "outputs": [],
   "source": [
    "#Se obtienen 141 departamentos los cuales corresponden al 80%, estos seran usados para Entrenamiento\n",
    "df_depasCamp80p = df_depasFULL.loc[0:140,['titulo','precio','mets']]"
   ]
  },
  {
   "cell_type": "code",
   "execution_count": 7,
   "id": "personalized-atmosphere",
   "metadata": {},
   "outputs": [],
   "source": [
    "#Se obtienen 36 departamentos los cuales corresponden al 20%, estos seran usados para Validacion\n",
    "df_depasCamp20p = df_depasFULL.loc[141:177,['titulo','precio','mets']]"
   ]
  },
  {
   "cell_type": "code",
   "execution_count": 8,
   "id": "express-turkey",
   "metadata": {},
   "outputs": [],
   "source": [
    "cC80precio = pd.DataFrame(df_depasCamp80p['precio'])\n",
    "cC80metros = pd.DataFrame(df_depasCamp80p['mets'])"
   ]
  },
  {
   "cell_type": "code",
   "execution_count": 9,
   "id": "expanded-grill",
   "metadata": {},
   "outputs": [],
   "source": [
    "model = linear_model.LinearRegression()"
   ]
  },
  {
   "cell_type": "code",
   "execution_count": 10,
   "id": "tribal-advice",
   "metadata": {},
   "outputs": [
    {
     "data": {
      "text/plain": [
       "LinearRegression()"
      ]
     },
     "execution_count": 10,
     "metadata": {},
     "output_type": "execute_result"
    }
   ],
   "source": [
    "#Se realiza el entrenamiento con una muestra del 80%\n",
    "model.fit(cC80metros,cC80precio)"
   ]
  },
  {
   "cell_type": "code",
   "execution_count": 11,
   "id": "rolled-purchase",
   "metadata": {},
   "outputs": [
    {
     "data": {
      "text/plain": [
       "array([[20838.73915956]])"
      ]
     },
     "execution_count": 11,
     "metadata": {},
     "output_type": "execute_result"
    }
   ],
   "source": [
    "model.predict(pd.DataFrame([96]))"
   ]
  },
  {
   "cell_type": "code",
   "execution_count": 12,
   "id": "occupational-hopkins",
   "metadata": {},
   "outputs": [],
   "source": [
    "cC20precio = pd.DataFrame(df_depasCamp20p['precio'])\n",
    "cC20metros = pd.DataFrame(df_depasCamp20p['mets'])"
   ]
  },
  {
   "cell_type": "code",
   "execution_count": 13,
   "id": "younger-steering",
   "metadata": {},
   "outputs": [
    {
     "data": {
      "text/plain": [
       "LinearRegression()"
      ]
     },
     "execution_count": 13,
     "metadata": {},
     "output_type": "execute_result"
    }
   ],
   "source": [
    "#Se realiza la validacion con una muestra del 20%\n",
    "model.fit(cC20metros,cC20precio)"
   ]
  },
  {
   "cell_type": "code",
   "execution_count": 14,
   "id": "middle-tuesday",
   "metadata": {},
   "outputs": [
    {
     "data": {
      "text/plain": [
       "array([[20304.42271115]])"
      ]
     },
     "execution_count": 14,
     "metadata": {},
     "output_type": "execute_result"
    }
   ],
   "source": [
    "model.predict(pd.DataFrame([96]))"
   ]
  },
  {
   "cell_type": "code",
   "execution_count": 15,
   "id": "starting-manor",
   "metadata": {},
   "outputs": [],
   "source": [
    "# Otro resultado utilizando \"train_test_split\"----------------------------------------------------------------------------\n",
    "y= df_depasFULL['precio']\n",
    "x= df_depasFULL['mets']\n",
    "X_train,X_test,y_train,y_test = train_test_split(x,y,test_size = 0.2,random_state=0)"
   ]
  },
  {
   "cell_type": "code",
   "execution_count": 16,
   "id": "current-boutique",
   "metadata": {},
   "outputs": [],
   "source": [
    "model2 = linear_model.LinearRegression()"
   ]
  },
  {
   "cell_type": "code",
   "execution_count": 17,
   "id": "pediatric-input",
   "metadata": {},
   "outputs": [],
   "source": [
    "X_train = X_train.values.reshape([X_train.values.shape[0],1])\n",
    "X_test = X_test.values.reshape([X_test.values.shape[0],1])"
   ]
  },
  {
   "cell_type": "code",
   "execution_count": 18,
   "id": "boolean-thing",
   "metadata": {},
   "outputs": [
    {
     "data": {
      "text/plain": [
       "LinearRegression()"
      ]
     },
     "execution_count": 18,
     "metadata": {},
     "output_type": "execute_result"
    }
   ],
   "source": [
    "model2.fit(X_train,y_train)"
   ]
  },
  {
   "cell_type": "code",
   "execution_count": 19,
   "id": "fiscal-patient",
   "metadata": {},
   "outputs": [
    {
     "data": {
      "text/plain": [
       "array([20995.07316409])"
      ]
     },
     "execution_count": 19,
     "metadata": {},
     "output_type": "execute_result"
    }
   ],
   "source": [
    "model2.predict(pd.DataFrame([96]))"
   ]
  },
  {
   "cell_type": "code",
   "execution_count": null,
   "id": "lined-mechanics",
   "metadata": {},
   "outputs": [],
   "source": []
  }
 ],
 "metadata": {
  "kernelspec": {
   "display_name": "Python 3",
   "language": "python",
   "name": "python3"
  },
  "language_info": {
   "codemirror_mode": {
    "name": "ipython",
    "version": 3
   },
   "file_extension": ".py",
   "mimetype": "text/x-python",
   "name": "python",
   "nbconvert_exporter": "python",
   "pygments_lexer": "ipython3",
   "version": "3.6.9"
  }
 },
 "nbformat": 4,
 "nbformat_minor": 5
}
