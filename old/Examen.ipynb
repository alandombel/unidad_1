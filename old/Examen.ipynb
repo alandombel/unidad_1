{
 "cells": [
  {
   "cell_type": "code",
   "execution_count": 1,
   "id": "pacific-equity",
   "metadata": {},
   "outputs": [],
   "source": [
    "def ejemploFuncion(): \n",
    "    return 0"
   ]
  },
  {
   "cell_type": "code",
   "execution_count": 2,
   "id": "binary-intervention",
   "metadata": {},
   "outputs": [
    {
     "name": "stdout",
     "output_type": "stream",
     "text": [
      "Ejemplos de los Tipos de Datos vistos en Clase \n",
      "\n",
      "<class 'int'>\n",
      "<class 'float'>\n",
      "<class 'str'>\n",
      "<class 'bool'>\n",
      "<class 'NoneType'>\n",
      "<class 'function'>\n"
     ]
    }
   ],
   "source": [
    "print(\"Ejemplos de los Tipos de Datos vistos en Clase \\n\")\n",
    "e1 = 10\n",
    "e2 = 11.06\n",
    "e3 = \"texto\"\n",
    "e4 = True\n",
    "e5 = None\n",
    "\n",
    "print(type(e1))\n",
    "print(type(e2))\n",
    "print(type(e3))\n",
    "print(type(e4))\n",
    "print(type(e5))\n",
    "print(type(ejemploFuncion))"
   ]
  },
  {
   "cell_type": "code",
   "execution_count": 3,
   "id": "diverse-proposition",
   "metadata": {},
   "outputs": [],
   "source": [
    "\n",
    "def multiNum(n1,n2,n3='None'):\n",
    "    if n3== 'None':\n",
    "        return n1*n2\n",
    "    return n1*n2*n3"
   ]
  },
  {
   "cell_type": "code",
   "execution_count": 4,
   "id": "sonic-monte",
   "metadata": {},
   "outputs": [
    {
     "name": "stdout",
     "output_type": "stream",
     "text": [
      "25\n",
      "30\n"
     ]
    }
   ],
   "source": [
    "varFun1 = multiNum\n",
    "varFun2 = multiNum\n",
    "print(varFun1(5,5))\n",
    "print(varFun2(2,3,5))"
   ]
  },
  {
   "cell_type": "code",
   "execution_count": 5,
   "id": "located-margin",
   "metadata": {},
   "outputs": [],
   "source": [
    "tupla = (11,5.5,\"Pepe\",\"Patata\",6,25)\n"
   ]
  },
  {
   "cell_type": "code",
   "execution_count": 6,
   "id": "smart-requirement",
   "metadata": {},
   "outputs": [
    {
     "name": "stdout",
     "output_type": "stream",
     "text": [
      "11\n",
      "5.5\n",
      "Pepe\n",
      "Patata\n",
      "6\n",
      "25\n"
     ]
    }
   ],
   "source": [
    "for i in range(0,len(tupla)):\n",
    "    print(tupla[i])"
   ]
  },
  {
   "cell_type": "code",
   "execution_count": 7,
   "id": "veterinary-portsmouth",
   "metadata": {},
   "outputs": [],
   "source": [
    "lista = [5,2,7,3,9,18,3]"
   ]
  },
  {
   "cell_type": "code",
   "execution_count": 8,
   "id": "instrumental-classroom",
   "metadata": {},
   "outputs": [
    {
     "name": "stdout",
     "output_type": "stream",
     "text": [
      "5\n",
      "2\n",
      "7\n",
      "3\n",
      "9\n",
      "18\n",
      "3\n"
     ]
    }
   ],
   "source": [
    "j=0\n",
    "while j<len(lista):\n",
    "    print(lista[j])\n",
    "    j= j+1"
   ]
  },
  {
   "cell_type": "code",
   "execution_count": 9,
   "id": "sunrise-request",
   "metadata": {},
   "outputs": [
    {
     "data": {
      "text/plain": [
       "2"
      ]
     },
     "execution_count": 9,
     "metadata": {},
     "output_type": "execute_result"
    }
   ],
   "source": [
    "min(lista)"
   ]
  },
  {
   "cell_type": "code",
   "execution_count": 10,
   "id": "civil-excerpt",
   "metadata": {},
   "outputs": [
    {
     "data": {
      "text/plain": [
       "18"
      ]
     },
     "execution_count": 10,
     "metadata": {},
     "output_type": "execute_result"
    }
   ],
   "source": [
    "max(lista)"
   ]
  },
  {
   "cell_type": "code",
   "execution_count": 11,
   "id": "excited-machinery",
   "metadata": {},
   "outputs": [],
   "source": [
    "lista.append(5)"
   ]
  },
  {
   "cell_type": "code",
   "execution_count": 12,
   "id": "activated-stroke",
   "metadata": {},
   "outputs": [
    {
     "name": "stdout",
     "output_type": "stream",
     "text": [
      "5\n",
      "2\n",
      "7\n",
      "3\n",
      "9\n",
      "18\n",
      "3\n",
      "5\n"
     ]
    }
   ],
   "source": [
    "j=0\n",
    "while j<len(lista):\n",
    "    print(lista[j])\n",
    "    j= j+1"
   ]
  },
  {
   "cell_type": "code",
   "execution_count": 11,
   "id": "retired-paint",
   "metadata": {},
   "outputs": [
    {
     "name": "stdout",
     "output_type": "stream",
     "text": [
      "5\n"
     ]
    }
   ],
   "source": [
    "print(lista[0])"
   ]
  },
  {
   "cell_type": "code",
   "execution_count": 12,
   "id": "entire-bible",
   "metadata": {},
   "outputs": [],
   "source": [
    "cadena= \"Esto_es_una_cadena_para_split_.\""
   ]
  },
  {
   "cell_type": "code",
   "execution_count": 15,
   "id": "right-customs",
   "metadata": {},
   "outputs": [
    {
     "name": "stdout",
     "output_type": "stream",
     "text": [
      "['Esto', 'es', 'una', 'cadena', 'para', 'split', '.']\n"
     ]
    }
   ],
   "source": [
    "csplit= cadena.split(\"_\")\n",
    "\n",
    "print(csplit)"
   ]
  },
  {
   "cell_type": "code",
   "execution_count": null,
   "id": "major-instrument",
   "metadata": {},
   "outputs": [],
   "source": []
  },
  {
   "cell_type": "code",
   "execution_count": null,
   "id": "bizarre-wichita",
   "metadata": {},
   "outputs": [],
   "source": []
  }
 ],
 "metadata": {
  "kernelspec": {
   "display_name": "Python 3",
   "language": "python",
   "name": "python3"
  },
  "language_info": {
   "codemirror_mode": {
    "name": "ipython",
    "version": 3
   },
   "file_extension": ".py",
   "mimetype": "text/x-python",
   "name": "python",
   "nbconvert_exporter": "python",
   "pygments_lexer": "ipython3",
   "version": "3.6.9"
  }
 },
 "nbformat": 4,
 "nbformat_minor": 5
}
