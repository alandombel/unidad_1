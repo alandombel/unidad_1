{
 "cells": [
  {
   "cell_type": "code",
   "execution_count": 5,
   "id": "occupational-browser",
   "metadata": {},
   "outputs": [],
   "source": [
    "import pandas as pd\n",
    "df = pd.read_csv(r'pizzaqrofull.csv')"
   ]
  },
  {
   "cell_type": "code",
   "execution_count": 6,
   "id": "approved-saying",
   "metadata": {},
   "outputs": [
    {
     "name": "stdout",
     "output_type": "stream",
     "text": [
      "    web-scraper-order                              web-scraper-start-url  \\\n",
      "0      1615754708-199  https://www.ubereats.com/search?ps=1&q=Pizza&p...   \n",
      "1      1615754713-273  https://www.ubereats.com/search?ps=1&q=Pizza&p...   \n",
      "2      1615754708-207  https://www.ubereats.com/search?ps=1&q=Pizza&p...   \n",
      "3      1615754725-367  https://www.ubereats.com/search?ps=1&q=Pizza&p...   \n",
      "4      1615754708-214  https://www.ubereats.com/search?ps=1&q=Pizza&p...   \n",
      "..                ...                                                ...   \n",
      "440    1615753931-142  https://www.rappi.com.mx/restaurantes/category...   \n",
      "441    1615753931-145  https://www.rappi.com.mx/restaurantes/category...   \n",
      "442    1615753931-136  https://www.rappi.com.mx/restaurantes/category...   \n",
      "443    1615753931-137  https://www.rappi.com.mx/restaurantes/category...   \n",
      "444    1615753931-144  https://www.rappi.com.mx/restaurantes/category...   \n",
      "\n",
      "                                    name  rating  \n",
      "0            El Globo Queretaro Jardines     4.8  \n",
      "1    Gabo´s Pizza & Grill (Popocatépetl)     0.0  \n",
      "2                              Dio Pizza     4.1  \n",
      "3              Domino's Queretaro Centro     4.4  \n",
      "4                                Nambila     0.0  \n",
      "..                                   ...     ...  \n",
      "440                           Lucciano's     0.0  \n",
      "441            Sofia Pizzeria El Refugio     0.0  \n",
      "442                       Domino's Pizza     3.6  \n",
      "443                          Amore Pizza     0.0  \n",
      "444        Tentazione Pizzas Artesanales     0.0  \n",
      "\n",
      "[445 rows x 4 columns]\n"
     ]
    }
   ],
   "source": [
    "print(df)"
   ]
  },
  {
   "cell_type": "code",
   "execution_count": 7,
   "id": "understood-month",
   "metadata": {},
   "outputs": [],
   "source": [
    "mejor = df.name[df.rating == df.rating.max()]\n",
    "cantidad = df.count()"
   ]
  },
  {
   "cell_type": "code",
   "execution_count": 8,
   "id": "asian-vegetation",
   "metadata": {},
   "outputs": [
    {
     "name": "stdout",
     "output_type": "stream",
     "text": [
      "El mejor rating de pizzeria es de: 5.0 y lo tiene(n) web-scraper-order        445\n",
      "web-scraper-start-url    445\n",
      "name                     445\n",
      "rating                   445\n",
      "dtype: int64 negocio(s)\n",
      "La mejor pizzeria es: \n",
      "300        Diktatur\n",
      "318    Movies Pizza\n",
      "369    Movies Pizza\n",
      "Name: name, dtype: object\n"
     ]
    }
   ],
   "source": [
    "print('El mejor rating de pizzeria es de: '+str(df.rating.max())+' y lo tiene(n) '+str(cantidad)+' negocio(s)')\n",
    "print('La mejor pizzeria es: ')\n",
    "print(mejor)"
   ]
  },
  {
   "cell_type": "code",
   "execution_count": null,
   "id": "physical-filter",
   "metadata": {},
   "outputs": [],
   "source": []
  }
 ],
 "metadata": {
  "kernelspec": {
   "display_name": "Python 3",
   "language": "python",
   "name": "python3"
  },
  "language_info": {
   "codemirror_mode": {
    "name": "ipython",
    "version": 3
   },
   "file_extension": ".py",
   "mimetype": "text/x-python",
   "name": "python",
   "nbconvert_exporter": "python",
   "pygments_lexer": "ipython3",
   "version": "3.6.9"
  }
 },
 "nbformat": 4,
 "nbformat_minor": 5
}
