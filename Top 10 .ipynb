{
 "cells": [
  {
   "cell_type": "code",
   "execution_count": 55,
   "id": "premier-shape",
   "metadata": {},
   "outputs": [],
   "source": [
    "import pandas as pd\n",
    "import matplotlib.pyplot as plt"
   ]
  },
  {
   "cell_type": "code",
   "execution_count": 56,
   "id": "tamil-rugby",
   "metadata": {},
   "outputs": [],
   "source": [
    "\n",
    "df_ubereats_centro = pd.read_csv(r'csv/ubereats-pizza-centro.csv')\n",
    "df_ubereats_alamos = pd.read_csv(r'csv/ubereats-pizza-alamos.csv')\n",
    "df_ubereats_juriquilla = pd.read_csv(r'csv/ubereats-pizza-juriquilla.csv')\n",
    "df_ubereats_milenio = pd.read_csv(r'csv/ubereats-pizza-milenio.csv')\n",
    "df_ubereats_refugio = pd.read_csv(r'csv/ubereats-pizza-refugio.csv')\n",
    "\n",
    "df_ubereats_balvanera = pd.read_csv(r'csv/ubereats-pizza-balvanera.csv')\n",
    "df_ubereats_campanario = pd.read_csv(r'csv/ubereats-pizza-campanario.csv')\n",
    "df_ubereats_cerritocolorado = pd.read_csv(r'csv/ubereats-pizza-cerritocolorado.csv')\n",
    "df_ubereats_cimatario = pd.read_csv(r'csv/ubereats-pizza-cimatario.csv')\n",
    "df_ubereats_el_pueblito = pd.read_csv(r'csv/ubereats-pizza-el-pueblito.csv')\n",
    "\n",
    "df_rappi_centro = pd.read_csv(r'csv/rappi-pizza-centro.csv')\n",
    "df_rappi_alamos = pd.read_csv(r'csv/rappi-pizza-alamos.csv')\n",
    "df_rappi_juriquilla = pd.read_csv(r'csv/rappi-pizza-juriquilla.csv')\n",
    "df_rappi_milenio = pd.read_csv(r'csv/rappi-pizza-milenio.csv')\n",
    "df_rappi_refugio = pd.read_csv(r'csv/rappi-pizza-refugio.csv')\n",
    "\n",
    "df_rappi_balvanera = pd.read_csv(r'csv/rappi-pizza-balvanera.csv')\n",
    "df_rappi_campanario = pd.read_csv(r'csv/rappi-pizza-campanario.csv')\n",
    "df_rappi_cerritocolorado = pd.read_csv(r'csv/rappi-pizza-cerritocolorado.csv')\n",
    "df_rappi_cimatario = pd.read_csv(r'csv/rappi-pizza-cimatario.csv')\n",
    "df_rappi_el_pueblito = pd.read_csv(r'csv/rappi-pizza-el-pueblito.csv')\n",
    "\n",
    "frames = [\n",
    "    df_ubereats_centro, \n",
    "    df_ubereats_alamos, \n",
    "    df_ubereats_juriquilla, \n",
    "    df_ubereats_milenio, \n",
    "    df_ubereats_refugio, \n",
    "    df_ubereats_balvanera, \n",
    "    df_ubereats_campanario, \n",
    "    df_ubereats_cerritocolorado, \n",
    "    df_ubereats_cimatario, \n",
    "    df_ubereats_el_pueblito, \n",
    "    df_rappi_centro, \n",
    "    df_rappi_alamos, \n",
    "    df_rappi_juriquilla, \n",
    "    df_rappi_milenio, \n",
    "    df_rappi_refugio, \n",
    "    df_rappi_balvanera, \n",
    "    df_rappi_campanario, \n",
    "    df_rappi_cerritocolorado, \n",
    "    df_rappi_cimatario, \n",
    "    df_rappi_el_pueblito]\n",
    "\n",
    "df = pd.concat(frames, ignore_index=True)"
   ]
  },
  {
   "cell_type": "code",
   "execution_count": 57,
   "id": "innovative-ratio",
   "metadata": {},
   "outputs": [
    {
     "name": "stdout",
     "output_type": "stream",
     "text": [
      "Elementos en el df: 38876 \n"
     ]
    }
   ],
   "source": [
    "print('Elementos en el df: {} '.format(df.count()['name']))"
   ]
  },
  {
   "cell_type": "code",
   "execution_count": 58,
   "id": "lasting-screw",
   "metadata": {},
   "outputs": [],
   "source": [
    "# Se remueven los parentecis de evals \n",
    "df['evals'] = df['evals'].apply(lambda x: float(x[1:len(x)-1]) if not isinstance(x, float) else x)"
   ]
  },
  {
   "cell_type": "code",
   "execution_count": 59,
   "id": "rolled-rebecca",
   "metadata": {},
   "outputs": [
    {
     "name": "stdout",
     "output_type": "stream",
     "text": [
      "El total de Evaluaciones fue 1906288.0\n"
     ]
    }
   ],
   "source": [
    "totalEvals = df['evals'].sum()\n",
    "print('El total de Evaluaciones fue {}'.format(totalEvals))"
   ]
  },
  {
   "cell_type": "code",
   "execution_count": 60,
   "id": "juvenile-pitch",
   "metadata": {},
   "outputs": [
    {
     "data": {
      "text/html": [
       "<div>\n",
       "<style scoped>\n",
       "    .dataframe tbody tr th:only-of-type {\n",
       "        vertical-align: middle;\n",
       "    }\n",
       "\n",
       "    .dataframe tbody tr th {\n",
       "        vertical-align: top;\n",
       "    }\n",
       "\n",
       "    .dataframe thead th {\n",
       "        text-align: right;\n",
       "    }\n",
       "</style>\n",
       "<table border=\"1\" class=\"dataframe\">\n",
       "  <thead>\n",
       "    <tr style=\"text-align: right;\">\n",
       "      <th></th>\n",
       "      <th>name</th>\n",
       "      <th>rating</th>\n",
       "      <th>evals</th>\n",
       "      <th>factor</th>\n",
       "      <th>stars</th>\n",
       "    </tr>\n",
       "  </thead>\n",
       "  <tbody>\n",
       "    <tr>\n",
       "      <th>0</th>\n",
       "      <td>Di Vino</td>\n",
       "      <td>4.5</td>\n",
       "      <td>64.0</td>\n",
       "      <td>0.000034</td>\n",
       "      <td>0.000151</td>\n",
       "    </tr>\n",
       "    <tr>\n",
       "      <th>1</th>\n",
       "      <td>Diktatur (Guerrero)</td>\n",
       "      <td>4.9</td>\n",
       "      <td>10.0</td>\n",
       "      <td>0.000005</td>\n",
       "      <td>0.000026</td>\n",
       "    </tr>\n",
       "    <tr>\n",
       "      <th>2</th>\n",
       "      <td>The Zone Bread and Coffee</td>\n",
       "      <td>4.8</td>\n",
       "      <td>26.0</td>\n",
       "      <td>0.000014</td>\n",
       "      <td>0.000065</td>\n",
       "    </tr>\n",
       "    <tr>\n",
       "      <th>3</th>\n",
       "      <td>Papa John's Pizza Jardines</td>\n",
       "      <td>4.7</td>\n",
       "      <td>161.0</td>\n",
       "      <td>0.000084</td>\n",
       "      <td>0.000397</td>\n",
       "    </tr>\n",
       "    <tr>\n",
       "      <th>4</th>\n",
       "      <td>Micaela Cocina &amp; Café</td>\n",
       "      <td>4.8</td>\n",
       "      <td>79.0</td>\n",
       "      <td>0.000041</td>\n",
       "      <td>0.000199</td>\n",
       "    </tr>\n",
       "    <tr>\n",
       "      <th>...</th>\n",
       "      <td>...</td>\n",
       "      <td>...</td>\n",
       "      <td>...</td>\n",
       "      <td>...</td>\n",
       "      <td>...</td>\n",
       "    </tr>\n",
       "    <tr>\n",
       "      <th>38907</th>\n",
       "      <td>Trapani Pizza</td>\n",
       "      <td>4.8</td>\n",
       "      <td>NaN</td>\n",
       "      <td>NaN</td>\n",
       "      <td>NaN</td>\n",
       "    </tr>\n",
       "    <tr>\n",
       "      <th>38908</th>\n",
       "      <td>Il Pizzaiolo Qro</td>\n",
       "      <td>4.2</td>\n",
       "      <td>NaN</td>\n",
       "      <td>NaN</td>\n",
       "      <td>NaN</td>\n",
       "    </tr>\n",
       "    <tr>\n",
       "      <th>38909</th>\n",
       "      <td>Pizza Riko</td>\n",
       "      <td>NaN</td>\n",
       "      <td>NaN</td>\n",
       "      <td>NaN</td>\n",
       "      <td>NaN</td>\n",
       "    </tr>\n",
       "    <tr>\n",
       "      <th>38910</th>\n",
       "      <td>Estacion 19</td>\n",
       "      <td>NaN</td>\n",
       "      <td>NaN</td>\n",
       "      <td>NaN</td>\n",
       "      <td>NaN</td>\n",
       "    </tr>\n",
       "    <tr>\n",
       "      <th>38911</th>\n",
       "      <td>Nápoles Artesanal Pizzería</td>\n",
       "      <td>NaN</td>\n",
       "      <td>NaN</td>\n",
       "      <td>NaN</td>\n",
       "      <td>NaN</td>\n",
       "    </tr>\n",
       "  </tbody>\n",
       "</table>\n",
       "<p>38912 rows × 5 columns</p>\n",
       "</div>"
      ],
      "text/plain": [
       "                             name  rating  evals    factor     stars\n",
       "0                         Di Vino     4.5   64.0  0.000034  0.000151\n",
       "1             Diktatur (Guerrero)     4.9   10.0  0.000005  0.000026\n",
       "2       The Zone Bread and Coffee     4.8   26.0  0.000014  0.000065\n",
       "3      Papa John's Pizza Jardines     4.7  161.0  0.000084  0.000397\n",
       "4           Micaela Cocina & Café     4.8   79.0  0.000041  0.000199\n",
       "...                           ...     ...    ...       ...       ...\n",
       "38907               Trapani Pizza     4.8    NaN       NaN       NaN\n",
       "38908            Il Pizzaiolo Qro     4.2    NaN       NaN       NaN\n",
       "38909                  Pizza Riko     NaN    NaN       NaN       NaN\n",
       "38910                 Estacion 19     NaN    NaN       NaN       NaN\n",
       "38911  Nápoles Artesanal Pizzería     NaN    NaN       NaN       NaN\n",
       "\n",
       "[38912 rows x 5 columns]"
      ]
     },
     "execution_count": 60,
     "metadata": {},
     "output_type": "execute_result"
    }
   ],
   "source": [
    "# Operaciones para Determinar la mejor Pizzeria\n",
    "# df['factor'] = df['evals'] / totalEvals\n",
    "# df['stars'] = df['factor'] * df['rating']\n",
    "\n",
    "df['factor'] = df['evals'] / totalEvals\n",
    "df['stars'] = df['factor'] * df['rating']\n",
    "df.loc[:,['name','rating','evals','factor','stars']]"
   ]
  },
  {
   "cell_type": "code",
   "execution_count": 61,
   "id": "exterior-scotland",
   "metadata": {},
   "outputs": [
    {
     "data": {
      "text/html": [
       "<div>\n",
       "<style scoped>\n",
       "    .dataframe tbody tr th:only-of-type {\n",
       "        vertical-align: middle;\n",
       "    }\n",
       "\n",
       "    .dataframe tbody tr th {\n",
       "        vertical-align: top;\n",
       "    }\n",
       "\n",
       "    .dataframe thead th {\n",
       "        text-align: right;\n",
       "    }\n",
       "</style>\n",
       "<table border=\"1\" class=\"dataframe\">\n",
       "  <thead>\n",
       "    <tr style=\"text-align: right;\">\n",
       "      <th></th>\n",
       "      <th>name</th>\n",
       "      <th>rating</th>\n",
       "      <th>evals</th>\n",
       "      <th>factor</th>\n",
       "      <th>stars</th>\n",
       "    </tr>\n",
       "  </thead>\n",
       "  <tbody>\n",
       "    <tr>\n",
       "      <th>8427</th>\n",
       "      <td>Little Caesars (Corregidora)</td>\n",
       "      <td>4.8</td>\n",
       "      <td>500.0</td>\n",
       "      <td>0.000262</td>\n",
       "      <td>0.001259</td>\n",
       "    </tr>\n",
       "    <tr>\n",
       "      <th>5028</th>\n",
       "      <td>Little Caesars (Corregidora)</td>\n",
       "      <td>4.8</td>\n",
       "      <td>500.0</td>\n",
       "      <td>0.000262</td>\n",
       "      <td>0.001259</td>\n",
       "    </tr>\n",
       "    <tr>\n",
       "      <th>5311</th>\n",
       "      <td>Little Caesars (Corregidora)</td>\n",
       "      <td>4.8</td>\n",
       "      <td>500.0</td>\n",
       "      <td>0.000262</td>\n",
       "      <td>0.001259</td>\n",
       "    </tr>\n",
       "    <tr>\n",
       "      <th>7971</th>\n",
       "      <td>Little Caesars (Corregidora)</td>\n",
       "      <td>4.8</td>\n",
       "      <td>500.0</td>\n",
       "      <td>0.000262</td>\n",
       "      <td>0.001259</td>\n",
       "    </tr>\n",
       "    <tr>\n",
       "      <th>5177</th>\n",
       "      <td>Little Caesars (Corregidora)</td>\n",
       "      <td>4.8</td>\n",
       "      <td>500.0</td>\n",
       "      <td>0.000262</td>\n",
       "      <td>0.001259</td>\n",
       "    </tr>\n",
       "    <tr>\n",
       "      <th>...</th>\n",
       "      <td>...</td>\n",
       "      <td>...</td>\n",
       "      <td>...</td>\n",
       "      <td>...</td>\n",
       "      <td>...</td>\n",
       "    </tr>\n",
       "    <tr>\n",
       "      <th>38907</th>\n",
       "      <td>Trapani Pizza</td>\n",
       "      <td>4.8</td>\n",
       "      <td>NaN</td>\n",
       "      <td>NaN</td>\n",
       "      <td>NaN</td>\n",
       "    </tr>\n",
       "    <tr>\n",
       "      <th>38908</th>\n",
       "      <td>Il Pizzaiolo Qro</td>\n",
       "      <td>4.2</td>\n",
       "      <td>NaN</td>\n",
       "      <td>NaN</td>\n",
       "      <td>NaN</td>\n",
       "    </tr>\n",
       "    <tr>\n",
       "      <th>38909</th>\n",
       "      <td>Pizza Riko</td>\n",
       "      <td>NaN</td>\n",
       "      <td>NaN</td>\n",
       "      <td>NaN</td>\n",
       "      <td>NaN</td>\n",
       "    </tr>\n",
       "    <tr>\n",
       "      <th>38910</th>\n",
       "      <td>Estacion 19</td>\n",
       "      <td>NaN</td>\n",
       "      <td>NaN</td>\n",
       "      <td>NaN</td>\n",
       "      <td>NaN</td>\n",
       "    </tr>\n",
       "    <tr>\n",
       "      <th>38911</th>\n",
       "      <td>Nápoles Artesanal Pizzería</td>\n",
       "      <td>NaN</td>\n",
       "      <td>NaN</td>\n",
       "      <td>NaN</td>\n",
       "      <td>NaN</td>\n",
       "    </tr>\n",
       "  </tbody>\n",
       "</table>\n",
       "<p>38912 rows × 5 columns</p>\n",
       "</div>"
      ],
      "text/plain": [
       "                               name  rating  evals    factor     stars\n",
       "8427   Little Caesars (Corregidora)     4.8  500.0  0.000262  0.001259\n",
       "5028   Little Caesars (Corregidora)     4.8  500.0  0.000262  0.001259\n",
       "5311   Little Caesars (Corregidora)     4.8  500.0  0.000262  0.001259\n",
       "7971   Little Caesars (Corregidora)     4.8  500.0  0.000262  0.001259\n",
       "5177   Little Caesars (Corregidora)     4.8  500.0  0.000262  0.001259\n",
       "...                             ...     ...    ...       ...       ...\n",
       "38907                 Trapani Pizza     4.8    NaN       NaN       NaN\n",
       "38908              Il Pizzaiolo Qro     4.2    NaN       NaN       NaN\n",
       "38909                    Pizza Riko     NaN    NaN       NaN       NaN\n",
       "38910                   Estacion 19     NaN    NaN       NaN       NaN\n",
       "38911    Nápoles Artesanal Pizzería     NaN    NaN       NaN       NaN\n",
       "\n",
       "[38912 rows x 5 columns]"
      ]
     },
     "execution_count": 61,
     "metadata": {},
     "output_type": "execute_result"
    }
   ],
   "source": [
    "# Se ordena por stars, para validar el resultado\n",
    "Eval = df.loc[:,['name','rating','evals','factor','stars']].sort_values(by=['stars'], ascending=False)\n",
    "df.loc[:,['name','rating','evals','factor','stars']].sort_values(by=['stars'], ascending=False)\n"
   ]
  },
  {
   "cell_type": "code",
   "execution_count": 62,
   "id": "industrial-facial",
   "metadata": {},
   "outputs": [
    {
     "name": "stdout",
     "output_type": "stream",
     "text": [
      "                               name  rating  evals    factor     stars\n",
      "8427   Little Caesars (Corregidora)     4.8  500.0  0.000262  0.001259\n",
      "30375   El Globo Citadina Querétaro     4.8  497.0  0.000261  0.001251\n",
      "4020    El Globo Queretaro Jardines     4.8  484.0  0.000254  0.001219\n",
      "25372                   Boyos Pizza     4.8  465.0  0.000244  0.001171\n",
      "29601                 Trapani Pizza     4.8  388.0  0.000204  0.000977\n",
      "...                             ...     ...    ...       ...       ...\n",
      "38196                     Piu Pizza     4.8    NaN       NaN       NaN\n",
      "38254                     Pizza Pop     NaN    NaN       NaN       NaN\n",
      "38259          Mariscos El Naufrago     NaN    NaN       NaN       NaN\n",
      "38260               Pandini's Pizza     NaN    NaN       NaN       NaN\n",
      "38327                 La Piazza Qro     NaN    NaN       NaN       NaN\n",
      "\n",
      "[489 rows x 5 columns]\n"
     ]
    }
   ],
   "source": [
    "EvalR = Eval.drop_duplicates()\n",
    "print(EvalR)"
   ]
  },
  {
   "cell_type": "code",
   "execution_count": 63,
   "id": "wooden-reflection",
   "metadata": {},
   "outputs": [
    {
     "name": "stdout",
     "output_type": "stream",
     "text": [
      "--- Top 10 Restaurantes que venden Pizza en Qro ---\n",
      "\n",
      "                               name  rating  evals    factor     stars\n",
      "8427   Little Caesars (Corregidora)     4.8  500.0  0.000262  0.001259\n",
      "30375   El Globo Citadina Querétaro     4.8  497.0  0.000261  0.001251\n",
      "4020    El Globo Queretaro Jardines     4.8  484.0  0.000254  0.001219\n",
      "25372                   Boyos Pizza     4.8  465.0  0.000244  0.001171\n",
      "29601                 Trapani Pizza     4.8  388.0  0.000204  0.000977\n",
      "30025          Boyos Pizza Candiles     4.7  391.0  0.000205  0.000964\n",
      "9196          Pizza Hut Corregidora     4.5  402.0  0.000211  0.000949\n",
      "28099                    Don Carbón     4.5  326.0  0.000171  0.000770\n",
      "9493             Sushi Roll (Antea)     4.5  304.0  0.000159  0.000718\n",
      "27019                  Il Pizzaiolo     4.3  287.0  0.000151  0.000647\n"
     ]
    }
   ],
   "source": [
    "print('--- Top 10 Restaurantes que venden Pizza en Qro ---\\n')\n",
    "top10 = EvalR.iloc[0:10]\n",
    "print(top10)"
   ]
  },
  {
   "cell_type": "code",
   "execution_count": 49,
   "id": "rational-identification",
   "metadata": {},
   "outputs": [
    {
     "data": {
      "text/plain": [
       "Text(0.5, 0, 'Stars')"
      ]
     },
     "execution_count": 49,
     "metadata": {},
     "output_type": "execute_result"
    },
    {
     "data": {
      "image/png": "[encoded data removed]",
      "text/plain": [
       "<Figure size 432x288 with 1 Axes>"
      ]
     },
     "metadata": {
      "needs_background": "light"
     },
     "output_type": "display_data"
    }
   ],
   "source": [
    "plt.barh(top10['name'],top10['stars'])\n",
    "plt.title(\"Top 10 Mejores Restaurantes que veden Pizza en Qro\")\n",
    "plt.xlabel(\"Stars\")"
   ]
  },
  {
   "cell_type": "code",
   "execution_count": null,
   "id": "upper-chicago",
   "metadata": {},
   "outputs": [],
   "source": []
  }
 ],
 "metadata": {
  "kernelspec": {
   "display_name": "Python 3",
   "language": "python",
   "name": "python3"
  },
  "language_info": {
   "codemirror_mode": {
    "name": "ipython",
    "version": 3
   },
   "file_extension": ".py",
   "mimetype": "text/x-python",
   "name": "python",
   "nbconvert_exporter": "python",
   "pygments_lexer": "ipython3",
   "version": "3.6.9"
  }
 },
 "nbformat": 4,
 "nbformat_minor": 5
}
