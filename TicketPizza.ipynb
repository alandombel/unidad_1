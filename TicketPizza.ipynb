{
 "cells": [
  {
   "cell_type": "code",
   "execution_count": 2,
   "id": "suspected-laundry",
   "metadata": {},
   "outputs": [],
   "source": [
    "import pandas as pd\n",
    "dfp= pd.read_csv(r'Pizza.csv')"
   ]
  },
  {
   "cell_type": "code",
   "execution_count": 3,
   "id": "academic-corruption",
   "metadata": {},
   "outputs": [
    {
     "name": "stdout",
     "output_type": "stream",
     "text": [
      "                        id             dateAdded           dateUpdated  \\\n",
      "0     AVz3Y-7h3D1zeR_xDAqm  2017-06-30T05:05:40Z  2019-05-01T15:43:09Z   \n",
      "1     AVweGPFF_7pvs4fzAAzQ  2016-04-02T04:02:49Z  2019-05-01T15:27:50Z   \n",
      "2     AVwdRGa9_7pvs4fz4E3K  2016-03-03T18:39:49Z  2019-05-01T12:52:25Z   \n",
      "3     AVwdX4psIN2L1WUfvJB1  2016-03-29T05:08:59Z  2019-05-01T12:52:20Z   \n",
      "4     AVwdaeTtkufWRAb55pSH  2016-03-31T02:34:04Z  2019-05-01T12:50:45Z   \n",
      "...                    ...                   ...                   ...   \n",
      "9995  AVwdKXFYByjofQCxmIyZ  2016-03-21T00:12:46Z  2018-01-08T10:25:27Z   \n",
      "9996  AVwdKXFYByjofQCxmIyZ  2016-03-21T00:12:46Z  2018-01-08T10:25:27Z   \n",
      "9997  AVz6kzsQFcQ3k02bDhwQ  2017-06-30T19:56:11Z  2018-01-07T10:51:29Z   \n",
      "9998  AVz6kzsQFcQ3k02bDhwQ  2017-06-30T19:56:11Z  2018-01-07T10:51:29Z   \n",
      "9999  AVwdG9zTkufWRAb52Y2A  2015-10-23T01:57:27Z  2018-01-04T17:57:59Z   \n",
      "\n",
      "                    address  \\\n",
      "0          4203 E Kiehl Ave   \n",
      "1         25 E Camelback Rd   \n",
      "2           3703 Paxton Ave   \n",
      "3           30495 John R Rd   \n",
      "4          3600 Eastern Ave   \n",
      "...                     ...   \n",
      "9995      1126 E Lovejoy St   \n",
      "9996      1126 E Lovejoy St   \n",
      "9997         3641 E Main St   \n",
      "9998         3641 E Main St   \n",
      "9999  7460 W Lake Mead Blvd   \n",
      "\n",
      "                                             categories  \\\n",
      "0     Pizza,Restaurant,American restaurants,Pizza Pl...   \n",
      "1                         Pizza,Pizza Place,Restaurants   \n",
      "2                    Restaurant,Pizza Place,Restaurants   \n",
      "3          Pizza,Carry-out food,Pizza Place,Restaurants   \n",
      "4     Pizza,American restaurants,Pizza Place,Pizza e...   \n",
      "...                                                 ...   \n",
      "9995                                        Pizza Place   \n",
      "9996                                        Pizza Place   \n",
      "9997                            Pizza Place,Restaurants   \n",
      "9998                            Pizza Place,Restaurants   \n",
      "9999             Pizza Place,Restaurant,Fast Food,Pizza   \n",
      "\n",
      "                  primaryCategories             city country  \\\n",
      "0     Accommodation & Food Services         Sherwood      US   \n",
      "1     Accommodation & Food Services          Phoenix      US   \n",
      "2     Accommodation & Food Services       Cincinnati      US   \n",
      "3     Accommodation & Food Services  Madison Heights      US   \n",
      "4     Accommodation & Food Services        Baltimore      US   \n",
      "...                             ...              ...     ...   \n",
      "9995  Accommodation & Food Services          Buffalo      US   \n",
      "9996  Accommodation & Food Services          Buffalo      US   \n",
      "9997  Accommodation & Food Services    Saint Charles      US   \n",
      "9998  Accommodation & Food Services    Saint Charles      US   \n",
      "9999  Accommodation & Food Services        Las Vegas      US   \n",
      "\n",
      "                                              keys   latitude  ...  \\\n",
      "0         us/ar/sherwood/4203ekiehlave/-1051391616  34.832300  ...   \n",
      "1          us/az/phoenix/25ecamelbackrd/-727422936  33.509266  ...   \n",
      "2        us/oh/cincinnati/3703paxtonave/-619797122  39.144883  ...   \n",
      "3     us/mi/madisonheights/30495johnrrd/-874863116  42.516669  ...   \n",
      "4       us/md/baltimore/3600easternave/-1270965359  39.286630  ...   \n",
      "...                                            ...        ...  ...   \n",
      "9995       us/ny/buffalo/1126elovejoyst/1921210585  42.889759  ...   \n",
      "9996       us/ny/buffalo/1126elovejoyst/1921210585  42.889759  ...   \n",
      "9997     us/il/saintcharles/3641emainst/1336179832  41.921300  ...   \n",
      "9998     us/il/saintcharles/3641emainst/1336179832  41.921300  ...   \n",
      "9999    us/nv/lasvegas/7460wlakemeadblvd/330000776  36.196180  ...   \n",
      "\n",
      "      menus.currency                                     menus.dateSeen  \\\n",
      "0                USD  2018-05-01T04:25:37.197Z,2018-04-16T04:36:02.3...   \n",
      "1                USD  2018-03-03T02:38:06.381Z,2018-01-18T20:18:10.0...   \n",
      "2                USD  2018-04-10T07:58:34.585Z,2018-04-21T05:43:21.4...   \n",
      "3                USD          2016-10-20T21:50:02Z,2016-03-29T05:08:59Z   \n",
      "4                USD                               2016-03-31T02:34:04Z   \n",
      "...              ...                                                ...   \n",
      "9995             USD  2017-12-11T12:44:00.000Z,2016-03-21T00:13:00.0...   \n",
      "9996             USD                           2017-12-11T12:44:00.000Z   \n",
      "9997             USD  2017-12-10T18:55:00.000Z,2017-10-28T21:52:00.000Z   \n",
      "9998             USD  2017-12-10T18:55:00.000Z,2017-10-28T21:52:00.000Z   \n",
      "9999             USD  2017-12-08T19:07:00.000Z,2017-10-28T22:35:00.000Z   \n",
      "\n",
      "                                      menus.description  \\\n",
      "0                                                   NaN   \n",
      "1                                                   NaN   \n",
      "2     a saucelessampcomma double cheese pizza with a...   \n",
      "3                                                   NaN   \n",
      "4                                                   NaN   \n",
      "...                                                 ...   \n",
      "9995                                                NaN   \n",
      "9996                                                NaN   \n",
      "9997                                                NaN   \n",
      "9998                                                NaN   \n",
      "9999                                                NaN   \n",
      "\n",
      "                                           menus.name                 name  \\\n",
      "0                                        Cheese Pizza   Shotgun Dans Pizza   \n",
      "1                                        Pizza Cookie     Sauce Pizza Wine   \n",
      "2                                        Pizza Blanca        Mios Pizzeria   \n",
      "3                                         Small Pizza  Hungry Howies Pizza   \n",
      "4                                           Pizza Sub     Spartan Pizzeria   \n",
      "...                                               ...                  ...   \n",
      "9995                                Super Steak Pizza   Carbone's Pizzeria   \n",
      "9996                      Large Cheese & 1 Item Pizza   Carbone's Pizzeria   \n",
      "9997  Individual 6\" Pepperoni Stuffed Deep Dish Pizza     Giordano's Pizza   \n",
      "9998     Individual 6\" Cheese Stuffed Deep Dish Pizza     Giordano's Pizza   \n",
      "9999                      King Arthur's Supreme Pizza    Round Table Pizza   \n",
      "\n",
      "     postalCode priceRangeCurrency priceRangeMin priceRangeMax province  \n",
      "0         72120                USD             0            25       AR  \n",
      "1         85012                USD             0            25       AZ  \n",
      "2         45209                USD             0            25       OH  \n",
      "3         48071                USD            25            40       MI  \n",
      "4         21224                USD             0            25       MD  \n",
      "...         ...                ...           ...           ...      ...  \n",
      "9995      14206                USD             0            25       NY  \n",
      "9996      14206                USD             0            25       NY  \n",
      "9997      60174                USD             0            25       IL  \n",
      "9998      60174                USD             0            25       IL  \n",
      "9999      89128                USD             0            25       NV  \n",
      "\n",
      "[10000 rows x 24 columns]\n"
     ]
    }
   ],
   "source": [
    "print(dfp)"
   ]
  },
  {
   "cell_type": "code",
   "execution_count": 20,
   "id": "entertaining-river",
   "metadata": {},
   "outputs": [],
   "source": [
    "PromTminimo = dfp.priceRangeMin[dfp.country == 'US'].mean()\n",
    "PromTmaximo = dfp.priceRangeMax[dfp.country == 'US'].mean()\n",
    "TProm = (PromTminimo+PromTmaximo)/2"
   ]
  },
  {
   "cell_type": "code",
   "execution_count": 21,
   "id": "vietnamese-single",
   "metadata": {},
   "outputs": [
    {
     "name": "stdout",
     "output_type": "stream",
     "text": [
      "Ticket Minimo Promedio: 4.6555 USD\n",
      "Ticket Maximo Promedio: 27.7642 USD\n",
      "Ticket Promedio: 16.20985 USD\n"
     ]
    }
   ],
   "source": [
    "print('Ticket Minimo Promedio: '+ str(PromTminimo)+' USD')\n",
    "print('Ticket Maximo Promedio: '+ str(PromTmaximo)+' USD')\n",
    "print('Ticket Promedio: '+ str(TProm)+' USD')\n"
   ]
  },
  {
   "cell_type": "code",
   "execution_count": null,
   "id": "dense-winner",
   "metadata": {},
   "outputs": [],
   "source": []
  },
  {
   "cell_type": "code",
   "execution_count": null,
   "id": "wrapped-cradle",
   "metadata": {},
   "outputs": [],
   "source": []
  }
 ],
 "metadata": {
  "kernelspec": {
   "display_name": "Python 3",
   "language": "python",
   "name": "python3"
  },
  "language_info": {
   "codemirror_mode": {
    "name": "ipython",
    "version": 3
   },
   "file_extension": ".py",
   "mimetype": "text/x-python",
   "name": "python",
   "nbconvert_exporter": "python",
   "pygments_lexer": "ipython3",
   "version": "3.6.9"
  }
 },
 "nbformat": 4,
 "nbformat_minor": 5
}
